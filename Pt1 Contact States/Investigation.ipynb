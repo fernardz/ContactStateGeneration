{
 "cells": [
  {
   "cell_type": "markdown",
   "source": [
    "# Initial investigation of rework of thesis related to optimizing admittance in a force guided assembly task"
   ],
   "metadata": {}
  },
  {
   "cell_type": "code",
   "execution_count": 106,
   "source": [
    "\n",
    "import numpy as np\n",
    "import pandas as pd\n",
    "import matplotlib.pyplot as plt\n",
    "import matplotlib.path as mpath\n",
    "import matplotlib.lines as mlines\n",
    "import matplotlib.patches as mpatches\n",
    "from matplotlib.collections import PatchCollection\n",
    "from matplotlib import cm as mcm"
   ],
   "outputs": [],
   "metadata": {}
  },
  {
   "cell_type": "code",
   "execution_count": null,
   "source": [
    "# Define constraints\n",
    "PENALTYFACTOR=75\n",
    "INIT_MAX_THETA=pi/36\n",
    "INIT_MIN_THETA=-pi/36\n",
    "INIT_MAX_X=1.87\n",
    "INIT_MAX_Y=24.5  # Can be scalled depending on part geometry\n",
    "INIT_MIN_X=-1.87\n",
    "INIT_MIN_Y=0\n",
    "DP_INIT=13\n",
    "\n",
    "xPAPos=2e-1\n",
    "xPANeg=-2e-1\n",
    "yPAPos=1e-1\n",
    "yPANeg=-1e-1\n",
    "thetaPAPos=0.0872664626\n",
    "thetaPANeg=-0.0872664626\n",
    "thresh=1.0e-3"
   ],
   "outputs": [],
   "metadata": {}
  },
  {
   "cell_type": "code",
   "execution_count": 173,
   "source": [
    "# Convinience plotting function\n",
    "def plot_poly(objs_disp):\n",
    "  fig, ax = plt.subplots()\n",
    "  \n",
    "  patches=[]\n",
    "  for poly in objs_disp:\n",
    "    patches.append(poly)\n",
    "  p=PatchCollection(patches, edgecolor=\"k\", alpha=0.5, cmap=mcm.jet)\n",
    "  colors = 100*np.random.random(len(patches))\n",
    "  p.set_array(colors)\n",
    "  ax.add_collection(p)\n",
    "  ax.autoscale_view()\n",
    "  ax.set_aspect('equal','box')\n",
    "  plt.show()\n",
    "\n",
    "\n",
    "def plot_shape(shapes):\n",
    "  fig, ax = plt.subplots()\n",
    "  for shape in shapes:\n",
    "    ax.add_patch(shape)\n",
    "  ax.autoscale_view()\n",
    "  ax.set_aspect('equal','box')\n",
    "  plt.show()"
   ],
   "outputs": [],
   "metadata": {}
  },
  {
   "cell_type": "markdown",
   "source": [
    "We are a bit lazy so we go ahead and define the vertices for the objects here, this was done to save time with parsing dxf files."
   ],
   "metadata": {}
  },
  {
   "cell_type": "code",
   "execution_count": 174,
   "source": [
    "VertA=np.array([\n",
    "[-5.55, 4],\n",
    "[-5.55, -5],\n",
    "[5.55, -5],\n",
    "[5.55, 4 ],\n",
    "[4.55, 4],\n",
    "[0.55, 0],\n",
    "[0.55, -4],\n",
    "[-0.55, -4],\n",
    "[-0.55, 0],\n",
    "[-4.55, 4 ]\n",
    "])\n",
    "\n",
    "figObjA=mpatches.Polygon(VertA)\n",
    "plot_poly([figObjA])"
   ],
   "outputs": [
    {
     "output_type": "display_data",
     "data": {
      "image/png": "[encoded data removed]",
      "text/plain": [
       "<Figure size 432x288 with 1 Axes>"
      ]
     },
     "metadata": {
      "needs_background": "light"
     }
    }
   ],
   "metadata": {}
  },
  {
   "cell_type": "code",
   "execution_count": 183,
   "source": [
    "VertB=[\n",
    "[0.5, -4],\n",
    "[-0.5, -4],\n",
    "[-0.5, 0],\n",
    "[0.5, 0],\n",
    "]\n",
    "\n",
    "figObjB=mpatches.Polygon(VertB)\n",
    "plot_poly([figObjB])"
   ],
   "outputs": [
    {
     "output_type": "display_data",
     "data": {
      "image/png": "[encoded data removed]",
      "text/plain": [
       "<Figure size 432x288 with 1 Axes>"
      ]
     },
     "metadata": {
      "needs_background": "light"
     }
    }
   ],
   "metadata": {}
  },
  {
   "cell_type": "markdown",
   "source": [
    "Now we can see the end result of the assembly task, a square peg inside a slot"
   ],
   "metadata": {}
  },
  {
   "cell_type": "code",
   "execution_count": 176,
   "source": [
    "plot_poly([figObjA, figObjB])"
   ],
   "outputs": [
    {
     "output_type": "display_data",
     "data": {
      "image/png": "[encoded data removed]",
      "text/plain": [
       "<Figure size 432x288 with 1 Axes>"
      ]
     },
     "metadata": {
      "needs_background": "light"
     }
    }
   ],
   "metadata": {}
  },
  {
   "cell_type": "markdown",
   "source": [
    "Since we are doing a bunch of transformations we are using shapely instead"
   ],
   "metadata": {}
  },
  {
   "cell_type": "code",
   "execution_count": 177,
   "source": [
    "from shapely.geometry import Polygon, LineString, LinearRing\n",
    "from descartes import PolygonPatch"
   ],
   "outputs": [],
   "metadata": {}
  },
  {
   "cell_type": "code",
   "execution_count": 178,
   "source": [
    "polygonA = Polygon(VertA)\n",
    "patchA = PolygonPatch(polygonA, fc=\"b\", alpha=0.5)\n",
    "polygonB = Polygon(VertB)\n",
    "patchB = PolygonPatch(polygonB, fc=\"y\")\n",
    "plot_shape([patchA, patchB])"
   ],
   "outputs": [
    {
     "output_type": "display_data",
     "data": {
      "image/png": "[encoded data removed]",
      "text/plain": [
       "<Figure size 432x288 with 1 Axes>"
      ]
     },
     "metadata": {
      "needs_background": "light"
     }
    }
   ],
   "metadata": {}
  },
  {
   "cell_type": "markdown",
   "source": [
    "Get all the normals of the lines"
   ],
   "metadata": {}
  },
  {
   "cell_type": "code",
   "execution_count": 269,
   "source": [
    "def prepare_object(Vert):\n",
    "  #Check that object is defined as ccw\n",
    "  LRObjB=LinearRing(Vert)\n",
    "  if LRObjB.is_ccw is not True:\n",
    "    Vert=[x for x in reversed(Vert)]\n",
    "  Lines=[]\n",
    "  Vectors=[]\n",
    "  VectorsNorm=[]\n",
    "  Edges=[]\n",
    "  Verts2=[]\n",
    "\n",
    "  # For each create an edge, a shapely line and also due to how we want iterate\n",
    "  # rework our Vertices to mantain the shape. Normalize our Vectors\n",
    "  for i in range(len(Vert)):\n",
    "    Edge=[Vert[i-1],Vert[i]]\n",
    "    Edges.append(Edge)\n",
    "    Line=LineString([Vert[i-1],Vert[i]])\n",
    "    Lines.append(Line)\n",
    "    Verts2.append(Vert[-i])\n",
    "    Vector=np.array(Vert[i-1])-np.array(Vert[i])\n",
    "    Vectors.append(Vector)\n",
    "    VectorNorm = Vector/np.linalg.norm(Vector)\n",
    "    VectorsNorm.append(VectorNorm)\n",
    "\n",
    "  print(\"Edges\")\n",
    "  print('\\n'.join('{}: {}'.format(*k) for k in enumerate(Edges)))\n",
    "\n",
    "  # Get the vectors of each 2D object.Super easy for 2D \n",
    "  Normals=[]\n",
    "  for V in VectorsNorm:\n",
    "    Norm=np.array([-V[1],V[0]])\n",
    "    Normals.append(Norm)\n",
    "\n",
    "  print(\"Normals\")\n",
    "  print('\\n'.join('{}: {}'.format(*k) for k in enumerate(Normals)))\n",
    "\n",
    "  print(\"Vectors\")\n",
    "  print('\\n'.join('{}: {}'.format(*k) for k in enumerate(Vectors)))\n",
    "  print(\"Vectors Normalized\")\n",
    "  print('\\n'.join('{}: {}'.format(*k) for k in enumerate(VectorsNorm)))\n",
    "  Obj={}\n",
    "  Obj['Vertices']=np.asarray(Verts2)\n",
    "  Obj['Edges']=Edges\n",
    "  Obj['Lines']=Lines\n",
    "  Obj['Vectors']=Vectors\n",
    "  Obj['VectorsNorm']=VectorsNorm\n",
    "  Obj['Normals']=Normals\n",
    "  return Obj"
   ],
   "outputs": [],
   "metadata": {}
  },
  {
   "cell_type": "code",
   "execution_count": 270,
   "source": [
    "ObjA=prepare_object(VertA)"
   ],
   "outputs": [
    {
     "output_type": "stream",
     "name": "stdout",
     "text": [
      "Edges\n",
      "0: [array([-4.55,  4.  ]), array([-5.55,  4.  ])]\n",
      "1: [array([-5.55,  4.  ]), array([-5.55, -5.  ])]\n",
      "2: [array([-5.55, -5.  ]), array([ 5.55, -5.  ])]\n",
      "3: [array([ 5.55, -5.  ]), array([5.55, 4.  ])]\n",
      "4: [array([5.55, 4.  ]), array([4.55, 4.  ])]\n",
      "5: [array([4.55, 4.  ]), array([0.55, 0.  ])]\n",
      "6: [array([0.55, 0.  ]), array([ 0.55, -4.  ])]\n",
      "7: [array([ 0.55, -4.  ]), array([-0.55, -4.  ])]\n",
      "8: [array([-0.55, -4.  ]), array([-0.55,  0.  ])]\n",
      "9: [array([-0.55,  0.  ]), array([-4.55,  4.  ])]\n",
      "Normals\n",
      "0: [-0.  1.]\n",
      "1: [-1.  0.]\n",
      "2: [-0. -1.]\n",
      "3: [1. 0.]\n",
      "4: [-0.  1.]\n",
      "5: [-0.70710678  0.70710678]\n",
      "6: [-1.  0.]\n",
      "7: [-0.  1.]\n",
      "8: [1. 0.]\n",
      "9: [0.70710678 0.70710678]\n",
      "Vectors\n",
      "0: [1. 0.]\n",
      "1: [0. 9.]\n",
      "2: [-11.1   0. ]\n",
      "3: [ 0. -9.]\n",
      "4: [1. 0.]\n",
      "5: [4. 4.]\n",
      "6: [0. 4.]\n",
      "7: [1.1 0. ]\n",
      "8: [ 0. -4.]\n",
      "9: [ 4. -4.]\n",
      "Vectors Normalized\n",
      "0: [1. 0.]\n",
      "1: [0. 1.]\n",
      "2: [-1.  0.]\n",
      "3: [ 0. -1.]\n",
      "4: [1. 0.]\n",
      "5: [0.70710678 0.70710678]\n",
      "6: [0. 1.]\n",
      "7: [1. 0.]\n",
      "8: [ 0. -1.]\n",
      "9: [ 0.70710678 -0.70710678]\n"
     ]
    }
   ],
   "metadata": {}
  },
  {
   "cell_type": "code",
   "execution_count": 271,
   "source": [
    "ObjB=prepare_object(VertB)"
   ],
   "outputs": [
    {
     "output_type": "stream",
     "name": "stdout",
     "text": [
      "Edges\n",
      "0: [[0.5, -4], [0.5, 0]]\n",
      "1: [[0.5, 0], [-0.5, 0]]\n",
      "2: [[-0.5, 0], [-0.5, -4]]\n",
      "3: [[-0.5, -4], [0.5, -4]]\n",
      "Normals\n",
      "0: [1. 0.]\n",
      "1: [-0.  1.]\n",
      "2: [-1.  0.]\n",
      "3: [-0. -1.]\n",
      "Vectors\n",
      "0: [ 0. -4.]\n",
      "1: [1. 0.]\n",
      "2: [0. 4.]\n",
      "3: [-1.  0.]\n",
      "Vectors Normalized\n",
      "0: [ 0. -1.]\n",
      "1: [1. 0.]\n",
      "2: [0. 1.]\n",
      "3: [-1.  0.]\n"
     ]
    }
   ],
   "metadata": {}
  },
  {
   "cell_type": "markdown",
   "source": [
    "Define our edges and also our vectors and normalize them"
   ],
   "metadata": {}
  },
  {
   "cell_type": "code",
   "execution_count": 289,
   "source": [
    "fig, ax= plt.subplots()\n",
    "\n",
    "polygonA = Polygon(ObjA['Vertices'])\n",
    "patchA = PolygonPatch(polygonA, fc=\"b\", alpha=0.5)\n",
    "\n",
    "for e,n in zip(ObjA['Edges'], ObjA['Normals']):\n",
    "  mdpt=(np.add(e[0],e[1]))/2\n",
    "  scnd=mdpt+n*2\n",
    "  L=LineString([mdpt, scnd])\n",
    "  x,y=L.xy\n",
    "  plt.plot(x,y)\n",
    "\n",
    "ax.add_patch(patchA)\n",
    "ax.autoscale_view()\n",
    "ax.set_aspect('equal','box')\n",
    "plt.show()\n"
   ],
   "outputs": [
    {
     "output_type": "display_data",
     "data": {
      "image/png": "[encoded data removed]",
      "text/plain": [
       "<Figure size 432x288 with 1 Axes>"
      ]
     },
     "metadata": {
      "needs_background": "light"
     }
    }
   ],
   "metadata": {}
  },
  {
   "cell_type": "code",
   "execution_count": 291,
   "source": [
    "fig, ax= plt.subplots()\n",
    "\n",
    "polygonB = Polygon(ObjB['Vertices'])\n",
    "patchB = PolygonPatch(polygonB, fc=\"b\", alpha=0.5)\n",
    "\n",
    "for e,n in zip(ObjB['Edges'], ObjB['Normals']):\n",
    "  mdpt=np.add(e[0],e[1])/2\n",
    "  scnd=mdpt+n*2\n",
    "  L=LineString([mdpt, scnd])\n",
    "  x,y=L.xy\n",
    "  plt.plot(x,y)\n",
    "\n",
    "ax.add_patch(patchB)\n",
    "ax.autoscale_view()\n",
    "ax.set_aspect('equal','box')"
   ],
   "outputs": [
    {
     "output_type": "display_data",
     "data": {
      "image/png": "[encoded data removed]",
      "text/plain": [
       "<Figure size 432x288 with 1 Axes>"
      ]
     },
     "metadata": {
      "needs_background": "light"
     }
    }
   ],
   "metadata": {}
  },
  {
   "cell_type": "code",
   "execution_count": 315,
   "source": [
    "for i in range(len(VertB)):\n",
    "  x1=np.take(ObjB['Vertices'],i-1, axis=0, mode='wrap')\n",
    "  x2=np.take(ObjB['Vertices'],i, axis=0, mode='wrap')\n",
    "  x3=np.take(ObjB['Vertices'],i+1, axis=0, mode='wrap')\n",
    "  print(x1,x2,x3)"
   ],
   "outputs": [
    {
     "output_type": "stream",
     "name": "stdout",
     "text": [
      "[-0.5  0. ] [0.5 0. ] [ 0.5 -4. ]\n",
      "[0.5 0. ] [ 0.5 -4. ] [-0.5 -4. ]\n",
      "[ 0.5 -4. ] [-0.5 -4. ] [-0.5  0. ]\n",
      "[-0.5 -4. ] [-0.5  0. ] [0.5 0. ]\n"
     ]
    }
   ],
   "metadata": {}
  },
  {
   "cell_type": "code",
   "execution_count": 310,
   "source": [
    "ObjB['Vertices']"
   ],
   "outputs": [
    {
     "output_type": "execute_result",
     "data": {
      "text/plain": [
       "array([[ 0.5,  0. ],\n",
       "       [ 0.5, -4. ],\n",
       "       [-0.5, -4. ],\n",
       "       [-0.5,  0. ]])"
      ]
     },
     "metadata": {},
     "execution_count": 310
    }
   ],
   "metadata": {}
  },
  {
   "cell_type": "code",
   "execution_count": null,
   "source": [],
   "outputs": [],
   "metadata": {}
  }
 ],
 "metadata": {
  "orig_nbformat": 4,
  "language_info": {
   "name": "python",
   "version": "3.9.5",
   "mimetype": "text/x-python",
   "codemirror_mode": {
    "name": "ipython",
    "version": 3
   },
   "pygments_lexer": "ipython3",
   "nbconvert_exporter": "python",
   "file_extension": ".py"
  },
  "kernelspec": {
   "name": "python3",
   "display_name": "Python 3.9.5 64-bit ('env': venv)"
  },
  "interpreter": {
   "hash": "95f424f7fb9b931610f48ab761846136edf28821cb075d5960be994b26f4d2db"
  }
 },
 "nbformat": 4,
 "nbformat_minor": 2
}