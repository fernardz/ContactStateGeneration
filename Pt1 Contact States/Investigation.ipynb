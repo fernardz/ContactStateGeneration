{
 "cells": [
  {
   "cell_type": "markdown",
   "source": [
    "# Initial investigation of rework of thesis related to optimizing admittance in a force guided assembly task"
   ],
   "metadata": {}
  },
  {
   "cell_type": "code",
   "execution_count": 1,
   "source": [
    "\n",
    "import numpy as np\n",
    "import numpy.typing as npt\n",
    "import pandas as pd\n",
    "import matplotlib.pyplot as plt\n",
    "import matplotlib.path as mpath\n",
    "import matplotlib.lines as mlines\n",
    "import matplotlib.patches as mpatches\n",
    "import random\n",
    "from matplotlib.collections import PatchCollection\n",
    "from matplotlib import cm as mcm\n",
    "import matplotlib.gridspec as gridspec\n",
    "import math\n",
    "import logging\n",
    "from IPython.display import Latex, Markdown\n"
   ],
   "outputs": [],
   "metadata": {}
  },
  {
   "cell_type": "code",
   "execution_count": 72,
   "source": [
    "logger = logging.getLogger()\n",
    "logger.setLevel('INFO')"
   ],
   "outputs": [],
   "metadata": {}
  },
  {
   "cell_type": "code",
   "execution_count": 73,
   "source": [
    "# Define constraints\n",
    "PENALTYFACTOR=75\n",
    "INIT_MAX_THETA=np.pi/36\n",
    "INIT_MIN_THETA=-np.pi/36\n",
    "INIT_MAX_X=1.87\n",
    "INIT_MAX_Y=24.5  # Can be scalled depending on part geometry\n",
    "INIT_MIN_X=-1.87\n",
    "INIT_MIN_Y=0\n",
    "DP_INIT=13\n",
    "\n",
    "xPAPos=2e-1\n",
    "xPANeg=-2e-1\n",
    "yPAPos=1e-1\n",
    "yPANeg=-1e-1\n",
    "thetaPAPos=0.0872664626\n",
    "thetaPANeg=-0.0872664626\n",
    "thresh=1.0e-3\n",
    "\n",
    "logging.info('Loaded Constants')"
   ],
   "outputs": [
    {
     "output_type": "stream",
     "name": "stderr",
     "text": [
      "INFO:root:Loaded Constants\n"
     ]
    }
   ],
   "metadata": {}
  },
  {
   "cell_type": "code",
   "execution_count": 4,
   "source": [
    "# Set the bouns\n",
    "lb=[INIT_MIN_X,INIT_MIN_Y,INIT_MIN_THETA]\n",
    "ub=[INIT_MAX_X,INIT_MAX_Y,INIT_MAX_THETA]"
   ],
   "outputs": [],
   "metadata": {}
  },
  {
   "cell_type": "code",
   "execution_count": 77,
   "source": [
    "# Display functions for geometries and formulas\n",
    "\n",
    "\"\"\" \n",
    "Plots a poligon on a new figure\n",
    "\"\"\"\n",
    "def plot_poly(objs_disp: list) -> None:\n",
    "  fig, ax = plt.subplots()\n",
    "  \n",
    "  patches=[]\n",
    "  for poly in objs_disp:\n",
    "    patches.append(poly)\n",
    "  p=PatchCollection(patches, edgecolor=\"k\", alpha=0.5, cmap=mcm.jet)\n",
    "  colors = 100*np.random.random(len(patches))\n",
    "  p.set_array(colors)\n",
    "  ax.add_collection(p)\n",
    "  ax.autoscale_view()\n",
    "  ax.set_aspect('equal','box')\n",
    "  plt.show()\n",
    "\n",
    "\n",
    "\n",
    "def plot_shape(shapes: list) -> None:\n",
    "  \"\"\" \n",
    "  Plots a patch on a new figure\n",
    "  \"\"\"\n",
    "  fig, ax = plt.subplots()\n",
    "  for shape in shapes:\n",
    "    ax.add_patch(shape)\n",
    "  ax.autoscale_view()\n",
    "  ax.set_aspect('equal','box')\n",
    "  plt.show()\n",
    "\n",
    "\n",
    "def bmatrix(a: np.ndarray)->str:\n",
    "    \"\"\"\n",
    "    Returns a LaTeX bmatrix\n",
    "    \"\"\"\n",
    "    if len(a.shape) > 2:\n",
    "        raise ValueError('bmatrix can at most display two dimensions')\n",
    "    lines = str(a).replace('[', '').replace(']', '').splitlines()\n",
    "    rv = [r'\\begin{bmatrix}']\n",
    "    rv += ['  ' + ' & '.join(l.split()) + r'\\\\' for l in lines]\n",
    "    rv += [r'\\end{bmatrix}']\n",
    "    return '\\n'.join(rv)\n"
   ],
   "outputs": [],
   "metadata": {}
  },
  {
   "cell_type": "markdown",
   "source": [
    "We are a bit lazy so we go ahead and define the vertices for the objects here, this was done to save time with parsing dxf files."
   ],
   "metadata": {}
  },
  {
   "cell_type": "code",
   "execution_count": 6,
   "source": [
    "# We could import a dxf or simlar, but for this just define the polygons\n",
    "# this is \n",
    "VertA=np.array([\n",
    "[-5.55, 4],\n",
    "[-5.55, -5],\n",
    "[5.55, -5],\n",
    "[5.55, 4 ],\n",
    "[4.55, 4],\n",
    "[0.55, 0],\n",
    "[0.55, -4],\n",
    "[-0.55, -4],\n",
    "[-0.55, 0],\n",
    "[-4.55, 4 ]\n",
    "])\n",
    "\n",
    "figObjA=mpatches.Polygon(VertA)\n",
    "plot_poly([figObjA])"
   ],
   "outputs": [
    {
     "output_type": "display_data",
     "data": {
      "image/png": "[encoded data removed]",
      "text/plain": [
       "<Figure size 432x288 with 1 Axes>"
      ]
     },
     "metadata": {
      "needs_background": "light"
     }
    }
   ],
   "metadata": {}
  },
  {
   "cell_type": "code",
   "execution_count": 7,
   "source": [
    "VertB=[\n",
    "[0.5, -4],\n",
    "[-0.5, -4],\n",
    "[-0.5, 0],\n",
    "[0.5, 0],\n",
    "]\n",
    "\n",
    "figObjB=mpatches.Polygon(VertB)\n",
    "plot_poly([figObjB])"
   ],
   "outputs": [
    {
     "output_type": "display_data",
     "data": {
      "image/png": "[encoded data removed]",
      "text/plain": [
       "<Figure size 432x288 with 1 Axes>"
      ]
     },
     "metadata": {
      "needs_background": "light"
     }
    }
   ],
   "metadata": {}
  },
  {
   "cell_type": "markdown",
   "source": [
    "Now we can see the end result of the assembly task, a square peg inside a slot"
   ],
   "metadata": {}
  },
  {
   "cell_type": "code",
   "execution_count": 8,
   "source": [
    "plot_poly([figObjA, figObjB])"
   ],
   "outputs": [
    {
     "output_type": "display_data",
     "data": {
      "image/png": "[encoded data removed]",
      "text/plain": [
       "<Figure size 432x288 with 1 Axes>"
      ]
     },
     "metadata": {
      "needs_background": "light"
     }
    }
   ],
   "metadata": {}
  },
  {
   "cell_type": "markdown",
   "source": [
    "Since we are doing a bunch of transformations we are using shapely instead."
   ],
   "metadata": {}
  },
  {
   "cell_type": "code",
   "execution_count": 9,
   "source": [
    "from shapely.geometry import Polygon, LineString, LinearRing\n",
    "from shapely.ops import triangulate\n",
    "from shapely.affinity import scale\n",
    "from descartes import PolygonPatch"
   ],
   "outputs": [],
   "metadata": {}
  },
  {
   "cell_type": "markdown",
   "source": [
    "and this is how our successful assembly looks like. We leave a small amount of clearance between the parts"
   ],
   "metadata": {}
  },
  {
   "cell_type": "code",
   "execution_count": 10,
   "source": [
    "polygonA = Polygon(VertA)\n",
    "patchA = PolygonPatch(polygonA, fc=\"b\", alpha=0.5)\n",
    "polygonB = Polygon(VertB)\n",
    "patchB = PolygonPatch(polygonB, fc=\"y\")\n",
    "plot_shape([patchA, patchB])"
   ],
   "outputs": [
    {
     "output_type": "display_data",
     "data": {
      "image/png": "[encoded data removed]",
      "text/plain": [
       "<Figure size 432x288 with 1 Axes>"
      ]
     },
     "metadata": {
      "needs_background": "light"
     }
    }
   ],
   "metadata": {}
  },
  {
   "cell_type": "markdown",
   "source": [
    "Prepare our objects by getting multiple geometry descriptors"
   ],
   "metadata": {}
  },
  {
   "cell_type": "code",
   "execution_count": 11,
   "source": [
    "def prepare_object(Vert: list, Verbose=False) -> list:\n",
    "  '''\n",
    "  Function taks an list of vertices\n",
    "  Returns and object dictionary with geometric properties.\n",
    "  '''\n",
    "  #Check that object is defined as ccw\n",
    "  LRObjB=LinearRing(Vert)\n",
    "  if LRObjB.is_ccw is not True:\n",
    "    Vert=[x for x in reversed(Vert)]\n",
    "  Lines=[]\n",
    "  Vectors=[]\n",
    "  VectorsNorm=[]\n",
    "  Edges=[]\n",
    "  Verts2=[]\n",
    "\n",
    "  # For each create an edge, a shapely line and also due to how we want iterate\n",
    "  # rework our Vertices to mantain the shape. Normalize our Vectors\n",
    "  for i in range(len(Vert)):\n",
    "    Edge=[Vert[i-1],Vert[i]]\n",
    "    Edges.append(Edge)\n",
    "    Line=LineString([Vert[i-1],Vert[i]])\n",
    "    Lines.append(Line)\n",
    "    Verts2.append(Vert[i-1])\n",
    "    Vector=np.array(Vert[i-1])-np.array(Vert[i])\n",
    "    Vectors.append(Vector)\n",
    "    VectorNorm = Vector/np.linalg.norm(Vector)\n",
    "    VectorsNorm.append(VectorNorm)\n",
    "\n",
    "\n",
    "\n",
    "  # Get the vectors of each 2D object.Super easy for 2D \n",
    "  Normals=[]\n",
    "  for V in VectorsNorm:\n",
    "    Norm=np.array([-V[1],V[0]])\n",
    "    Normals.append(Norm)\n",
    "\n",
    "  if Verbose:\n",
    "    print(\"Edges\")\n",
    "    print('\\n'.join('{}: {}'.format(*k) for k in enumerate(Edges)))\n",
    "\n",
    "    print(\"Vertices\")\n",
    "    print('\\n'.join('{}: {}'.format(*k) for k in enumerate(Verts2)))\n",
    "\n",
    "    print(\"Normals\")\n",
    "    print('\\n'.join('{}: {}'.format(*k) for k in enumerate(Normals)))\n",
    "\n",
    "    print(\"Vectors\")\n",
    "    print('\\n'.join('{}: {}'.format(*k) for k in enumerate(Vectors)))\n",
    "    print(\"Vectors Normalized\")\n",
    "    print('\\n'.join('{}: {}'.format(*k) for k in enumerate(VectorsNorm)))\n",
    "  Obj={}\n",
    "  Obj['Vertices']=np.asarray(Verts2)\n",
    "  Obj['Edges']=Edges\n",
    "  Obj['Lines']=Lines\n",
    "  Obj['Vectors']=Vectors\n",
    "  Obj['VectorsNorm']=VectorsNorm\n",
    "  Obj['Normals']=Normals\n",
    "  return Obj\n"
   ],
   "outputs": [],
   "metadata": {}
  },
  {
   "cell_type": "markdown",
   "source": [
    "We can see the output of the information we need below for object A"
   ],
   "metadata": {}
  },
  {
   "cell_type": "code",
   "execution_count": 12,
   "source": [
    "ObjA=prepare_object(VertA, True)"
   ],
   "outputs": [
    {
     "output_type": "stream",
     "name": "stdout",
     "text": [
      "Edges\n",
      "0: [array([-4.55,  4.  ]), array([-5.55,  4.  ])]\n",
      "1: [array([-5.55,  4.  ]), array([-5.55, -5.  ])]\n",
      "2: [array([-5.55, -5.  ]), array([ 5.55, -5.  ])]\n",
      "3: [array([ 5.55, -5.  ]), array([5.55, 4.  ])]\n",
      "4: [array([5.55, 4.  ]), array([4.55, 4.  ])]\n",
      "5: [array([4.55, 4.  ]), array([0.55, 0.  ])]\n",
      "6: [array([0.55, 0.  ]), array([ 0.55, -4.  ])]\n",
      "7: [array([ 0.55, -4.  ]), array([-0.55, -4.  ])]\n",
      "8: [array([-0.55, -4.  ]), array([-0.55,  0.  ])]\n",
      "9: [array([-0.55,  0.  ]), array([-4.55,  4.  ])]\n",
      "Vertices\n",
      "0: [-4.55  4.  ]\n",
      "1: [-5.55  4.  ]\n",
      "2: [-5.55 -5.  ]\n",
      "3: [ 5.55 -5.  ]\n",
      "4: [5.55 4.  ]\n",
      "5: [4.55 4.  ]\n",
      "6: [0.55 0.  ]\n",
      "7: [ 0.55 -4.  ]\n",
      "8: [-0.55 -4.  ]\n",
      "9: [-0.55  0.  ]\n",
      "Normals\n",
      "0: [-0.  1.]\n",
      "1: [-1.  0.]\n",
      "2: [-0. -1.]\n",
      "3: [1. 0.]\n",
      "4: [-0.  1.]\n",
      "5: [-0.70710678  0.70710678]\n",
      "6: [-1.  0.]\n",
      "7: [-0.  1.]\n",
      "8: [1. 0.]\n",
      "9: [0.70710678 0.70710678]\n",
      "Vectors\n",
      "0: [1. 0.]\n",
      "1: [0. 9.]\n",
      "2: [-11.1   0. ]\n",
      "3: [ 0. -9.]\n",
      "4: [1. 0.]\n",
      "5: [4. 4.]\n",
      "6: [0. 4.]\n",
      "7: [1.1 0. ]\n",
      "8: [ 0. -4.]\n",
      "9: [ 4. -4.]\n",
      "Vectors Normalized\n",
      "0: [1. 0.]\n",
      "1: [0. 1.]\n",
      "2: [-1.  0.]\n",
      "3: [ 0. -1.]\n",
      "4: [1. 0.]\n",
      "5: [0.70710678 0.70710678]\n",
      "6: [0. 1.]\n",
      "7: [1. 0.]\n",
      "8: [ 0. -1.]\n",
      "9: [ 0.70710678 -0.70710678]\n"
     ]
    }
   ],
   "metadata": {}
  },
  {
   "cell_type": "code",
   "execution_count": 13,
   "source": [
    "ObjB=prepare_object(VertB)"
   ],
   "outputs": [],
   "metadata": {}
  },
  {
   "cell_type": "markdown",
   "source": [
    "Display our geometry"
   ],
   "metadata": {}
  },
  {
   "cell_type": "code",
   "execution_count": 14,
   "source": [
    "fig, axs= plt.subplots(1,2, figsize=(20,20))\n",
    "\n",
    "ax=axs[0]\n",
    "polygonA = Polygon(ObjA['Vertices'])\n",
    "patchA = PolygonPatch(polygonA, fc=\"b\", alpha=0.5)\n",
    "\n",
    "for i,(e,n) in enumerate(zip(ObjA['Edges'], ObjA['Normals'])):\n",
    "  mdpt=(np.add(e[0],e[1]))/2\n",
    "  ax.text(mdpt[0],mdpt[1],'E{}'.format(i))\n",
    "  scnd=mdpt+n*2\n",
    "  L=LineString([mdpt, scnd])\n",
    "  x,y=L.xy\n",
    "  ax.plot(x,y)\n",
    "\n",
    "for n, (x,y) in enumerate(ObjA['Vertices']):\n",
    "  ax.text(x,y,'V{}'.format(n))\n",
    "\n",
    "ax.add_patch(patchA)\n",
    "ax.autoscale_view()\n",
    "ax.set_aspect('equal','box')\n",
    "ax.set_xbound(-6,6)\n",
    "ax.set_ybound(-6,6)\n",
    "\n",
    "polygonB = Polygon(ObjB['Vertices'])\n",
    "patchB = PolygonPatch(polygonB, fc=\"b\", alpha=0.5)\n",
    "\n",
    "ax= axs[1]\n",
    "\n",
    "for i,(e,n) in enumerate(zip(ObjB['Edges'], ObjB['Normals'])):\n",
    "  mdpt=np.add(e[0],e[1])/2\n",
    "  ax.text(mdpt[0],mdpt[1],'E{}'.format(i))\n",
    "  scnd=mdpt+n*2\n",
    "  L=LineString([mdpt, scnd])\n",
    "  x,y=L.xy\n",
    "  ax.plot(x,y)\n",
    "\n",
    "for n, (x,y) in enumerate(ObjB['Vertices']):\n",
    "  ax.text(x,y,'V{}'.format(n))\n",
    "\n",
    "ax.add_patch(patchB)\n",
    "ax.autoscale_view()\n",
    "ax.set_aspect('equal','box')\n",
    "\n",
    "ax.set_xbound(-6,6)\n",
    "ax.set_ybound(-6,6)\n",
    "\n",
    "plt.show()\n"
   ],
   "outputs": [
    {
     "output_type": "display_data",
     "data": {
      "image/png": "[encoded data removed]",
      "text/plain": [
       "<Figure size 1440x1440 with 2 Axes>"
      ]
     },
     "metadata": {
      "needs_background": "light"
     }
    }
   ],
   "metadata": {}
  },
  {
   "cell_type": "code",
   "execution_count": 15,
   "source": [
    "def get_concave(ObjData):\n",
    "    \"\"\"\n",
    "    Function takes an Object dictionary and returns a list of concave vertices\n",
    "    for each one by looking at the attached vertices\n",
    "    \"\"\"\n",
    "    ConcaveList=[]\n",
    "    for i in range(len(ObjData['Vertices'])):\n",
    "        x1=np.take(ObjData['Vertices'],i, axis=0, mode='wrap')\n",
    "\n",
    "        be1=np.take(ObjData['Normals'],i-1, axis=0, mode='wrap')\n",
    "        be2=np.take(ObjData['Normals'],i, axis=0, mode='wrap')\n",
    "\n",
    "        be1=np.append(be1,0)\n",
    "        be2=np.append(be2,0)\n",
    "\n",
    "        v=np.cross(be1,be2)\n",
    "\n",
    "        v0=np.append(x1,0)\n",
    "        v2=np.append(x1,-1)\n",
    "\n",
    "        res=np.dot(-v, (v2- v0))\n",
    "\n",
    "        ConcaveList.append(res)\n",
    "    return ConcaveList"
   ],
   "outputs": [],
   "metadata": {}
  },
  {
   "cell_type": "code",
   "execution_count": 16,
   "source": [
    "# Get our concave vertices\n",
    "ConcaveListA=get_concave(ObjA)\n",
    "ConcaveListB=get_concave(ObjB)\n",
    "\n",
    "ObjA['Concave']=ConcaveListA\n",
    "ObjB['Concave']=ConcaveListB"
   ],
   "outputs": [],
   "metadata": {}
  },
  {
   "cell_type": "code",
   "execution_count": 17,
   "source": [
    "fig, axs = plt.subplots(ncols=2, sharex=True, sharey=True, figsize=(10,20))\n",
    "ax = axs[0]\n",
    "polygonA = Polygon(ObjA['Vertices'])\n",
    "patchA = PolygonPatch(polygonA, fc=\"b\", alpha=0.5)\n",
    "\n",
    "for n, ((x, y), Clist) in enumerate(zip(ObjA['Vertices'], ConcaveListA)):\n",
    "    if Clist <= 0:\n",
    "        #ax.text(x, y, 'V{}'.format(n), color='red')\n",
    "        ax.annotate('V-{}'.format(n), (x, y), textcoords=\"offset points\",\n",
    "                   ha='center', xytext=(0, 10), fontsize=12, color='red')\n",
    "    else:\n",
    "        #ax.text(x, y, 'V{}'.format(n))\n",
    "        ax.annotate('V-{}'.format(n), (x, y), textcoords=\"offset points\",\n",
    "                    ha='center', xytext=(0, 10), fontsize=12)\n",
    "\n",
    "\n",
    "ax.add_patch(patchA)\n",
    "ax.relim()\n",
    "\n",
    "ax.set_xlim(-6, 6)\n",
    "ax.set_ylim(-6, 6)\n",
    "\n",
    "ax1 = axs[1]\n",
    "polygonB = Polygon(ObjB['Vertices'])\n",
    "patchB = PolygonPatch(polygonB, fc=\"b\", alpha=0.5)\n",
    "\n",
    "for n, ((x, y), Clist) in enumerate(zip(ObjB['Vertices'], ConcaveListB)):\n",
    "    if Clist <= 0:\n",
    "        #ax.text(x, y, 'V{}'.format(n), color='red')\n",
    "        ax1.annotate('V-{}'.format(n), (x, y), textcoords=\"offset points\",\n",
    "                    ha='center', xytext=(0, 10), fontsize=12, color='red')\n",
    "    else:\n",
    "        #ax.text(x, y, 'V{}'.format(n))\n",
    "        ax1.annotate('V-{}'.format(n), (x, y), textcoords=\"offset points\",\n",
    "                    ha='center', xytext=(0, 10), fontsize=12)\n",
    "\n",
    "ax1.add_patch(patchB)\n",
    "ax1.relim()\n",
    "\n",
    "ax.autoscale_view()\n",
    "ax.set_aspect('equal', 'box')\n",
    "\n",
    "ax.set_xbound(-6, 6)\n",
    "ax.set_ybound(-6, 6)\n",
    "\n",
    "ax1.autoscale_view()\n",
    "ax1.set_aspect('equal', 'box')\n",
    "\n",
    "ax1.set_xbound(-6, 6)\n",
    "ax1.set_ybound(-6, 6)\n",
    "\n",
    "\n",
    "\n",
    "Latex('Concave Vertex Plot')\n"
   ],
   "outputs": [
    {
     "output_type": "execute_result",
     "data": {
      "text/latex": [
       "Concave Vertex Plot"
      ],
      "text/plain": [
       "<IPython.core.display.Latex object>"
      ]
     },
     "metadata": {},
     "execution_count": 17
    },
    {
     "output_type": "display_data",
     "data": {
      "image/png": "[encoded data removed]",
      "text/plain": [
       "<Figure size 720x1440 with 2 Axes>"
      ]
     },
     "metadata": {
      "needs_background": "light"
     }
    }
   ],
   "metadata": {}
  },
  {
   "cell_type": "markdown",
   "source": [
    "## Vertex Edge Contacts\r\n",
    "\r\n",
    "We check for ObjA V and ObjB E."
   ],
   "metadata": {}
  },
  {
   "cell_type": "code",
   "execution_count": 18,
   "source": [
    "def get_angle_vector(a,b):\n",
    "    a1=np.arccos(a[0]/np.linalg.norm(a))\n",
    "    a2=np.arccos(b[0]/np.linalg.norm(b))\n",
    "\n",
    "    if a[1]<0:\n",
    "        a1=-a1\n",
    "\n",
    "    if b[1]<0:\n",
    "        a2=-a2\n",
    "\n",
    "    angle=a1-a2\n",
    "\n",
    "    if angle>np.pi:\n",
    "        angle=angle-2*np.pi\n",
    "    elif angle<=-np.pi:\n",
    "        angle=angle+2*np.pi\n",
    "\n",
    "    return angle\n",
    "\n",
    "def VE_feas(Angle_a, Angle_b):\n",
    "    a_max=np.max([Angle_a, Angle_b])\n",
    "    a_min=np.min([Angle_a, Angle_b])\n",
    "\n",
    "    if a_max-a_min > np.pi:\n",
    "        temp=a_max\n",
    "        a_max=a_min+2*np.pi\n",
    "        a_min=temp\n",
    "\n",
    "    if a_max<INIT_MIN_THETA or a_min>INIT_MAX_THETA:\n",
    "        feas=False\n",
    "    else:\n",
    "        feas=True\n",
    "        \n",
    "    return a_min, a_max, feas"
   ],
   "outputs": [],
   "metadata": {}
  },
  {
   "cell_type": "code",
   "execution_count": 19,
   "source": [
    "ContactStates=[]\n",
    "for iA, (vA, cl) in enumerate(zip(ObjA['Vertices'], ObjA['Concave'])):\n",
    "    if cl>0:\n",
    "        Ea=ObjA['Normals'][iA]\n",
    "        Eb=ObjA['Normals'][iA-1]\n",
    "\n",
    "        for iB, NB in enumerate(ObjB['Normals']):\n",
    "            temp=-NB\n",
    "            Angle_a=get_angle_vector(Ea, temp)\n",
    "            Angle_b=get_angle_vector(Eb, temp)\n",
    "            a_min, a_max, feas=VE_feas(Angle_a, Angle_b)\n",
    "            if feas:\n",
    "                print('V {}, E{}, Angle_Min {}, Angle_Max {}'.format(iA, iB,\n",
    "                math.degrees(a_min), math.degrees(a_max)))\n",
    "                cs={'Type':'V-E',\n",
    "                    'ID':'V{}-E{}'.format(iA, iB),\n",
    "                    'ElementA':vA,\n",
    "                    'ElementB':ObjB['Edges'][iB],\n",
    "                    'a_min':a_min,\n",
    "                    'a_max':a_max}\n",
    "                ContactStates.append(cs)"
   ],
   "outputs": [
    {
     "output_type": "stream",
     "name": "stdout",
     "text": [
      "V 0, E3, Angle_Min -45.0, Angle_Max 0.0\n",
      "V 1, E0, Angle_Min -90.0, Angle_Max 0.0\n",
      "V 1, E3, Angle_Min 0.0, Angle_Max 90.0\n",
      "V 2, E0, Angle_Min 0.0, Angle_Max 90.0\n",
      "V 2, E1, Angle_Min -90.0, Angle_Max 0.0\n",
      "V 3, E1, Angle_Min 0.0, Angle_Max 90.0\n",
      "V 3, E2, Angle_Min -90.0, Angle_Max 0.0\n",
      "V 4, E2, Angle_Min 0.0, Angle_Max 90.0\n",
      "V 4, E3, Angle_Min -90.0, Angle_Max 0.0\n",
      "V 5, E3, Angle_Min 0.0, Angle_Max 45.0\n",
      "V 6, E0, Angle_Min -45.0, Angle_Max 0.0\n",
      "V 9, E2, Angle_Min 0.0, Angle_Max 45.0\n"
     ]
    }
   ],
   "metadata": {}
  },
  {
   "cell_type": "markdown",
   "source": [
    "Now that we have the possible VE contacts based just on our rotational bounds. Now we evaluate the possible contacts based on the bounds of our robot and part penetration in those arrangements"
   ],
   "metadata": {}
  },
  {
   "cell_type": "code",
   "execution_count": 20,
   "source": [
    "print('Lower:', lb)\n",
    "print('Upper:', ub)"
   ],
   "outputs": [
    {
     "output_type": "stream",
     "name": "stdout",
     "text": [
      "Lower: [-1.87, 0, -0.08726646259971647]\n",
      "Upper: [1.87, 24.5, 0.08726646259971647]\n"
     ]
    }
   ],
   "metadata": {}
  },
  {
   "cell_type": "markdown",
   "source": [
    "For example we will generate a random configuration state for the robot within the bounds defined previously."
   ],
   "metadata": {}
  },
  {
   "cell_type": "code",
   "execution_count": 21,
   "source": [
    "conf=[]\n",
    "for l,u in zip(lb,ub):\n",
    "    conf.append(random.uniform(l, u))\n",
    "\n",
    "# However for purposes of demonstration we just use the following configuration\n",
    "#conf=[-0.893600280993589, 2.026941294140438, -0.05591543977362778]\n",
    "#conf[0]=0.1\n",
    "conf=[-0.05, 2, 0]\n",
    "#conf=[-1, 2, -0.05591543977362778]\n",
    "print('Conf:', conf[:2], math.degrees(conf[2]))\n"
   ],
   "outputs": [
    {
     "output_type": "stream",
     "name": "stdout",
     "text": [
      "Conf: [-0.05, 2] 0.0\n"
     ]
    }
   ],
   "metadata": {}
  },
  {
   "cell_type": "markdown",
   "source": [
    "We will need to have a way to transfer the points and objects into a different frame (defined by the configuration)"
   ],
   "metadata": {}
  },
  {
   "cell_type": "code",
   "execution_count": 22,
   "source": [
    "def transfer_pt(pt, conf):\n",
    "    \"\"\"\n",
    "    Transfer the point from its initial frame to that defined by the configuration.\n",
    "    Create a rotation matrix R and transfer the point defined by trans\n",
    "    Returns a point in the given frame\n",
    "    \"\"\"\n",
    "    trans=conf[0:2]\n",
    "    angle=conf[2]\n",
    "    c, s = np.cos(angle), np.sin(angle)\n",
    "    R = np.array(((c, -s), (s, c)))\n",
    "    npt=np.dot(R,pt)+trans\n",
    "    return npt\n",
    "\n",
    "\n",
    "def transfer_vector(pt, conf):\n",
    "    \"\"\"\n",
    "    Transfer the vector from its initial frame to that defined by the configuration.\n",
    "    Create a rotation matrix R and apply\n",
    "    Returns the vector in the given frame\n",
    "    \"\"\"\n",
    "    angle = conf[2]\n",
    "    c, s = np.cos(angle), np.sin(angle)\n",
    "    R = np.array(((c, -s), (s, c)))\n",
    "    npt = np.dot(R, pt)\n",
    "    return npt\n"
   ],
   "outputs": [],
   "metadata": {}
  },
  {
   "cell_type": "code",
   "execution_count": 23,
   "source": [
    "#Store our original locations (In this case we just take the the last contact state obtained above)\n",
    "Ao=cs['ElementB'][0]\n",
    "Bo=cs['ElementB'][1]\n",
    "\n",
    "# Transfer the points to the conf frame\n",
    "A=transfer_pt(Ao, conf)\n",
    "B=transfer_pt(Bo, conf)\n",
    "\n",
    "# Get the point\n",
    "P=cs['ElementA']\n",
    "\n",
    "print('P: {} [A: {} => B: {}]'.format(P, A, B))"
   ],
   "outputs": [
    {
     "output_type": "stream",
     "name": "stdout",
     "text": [
      "P: [-0.55  0.  ] [A: [-0.55  2.  ] => B: [-0.55 -2.  ]]\n"
     ]
    }
   ],
   "metadata": {}
  },
  {
   "cell_type": "code",
   "execution_count": 24,
   "source": [
    "def mu_f(x: float) -> float:\n",
    "  \"\"\"\n",
    "  Return the absolute value of x as lonf as it is les than 0 (-1E-3 to help with calculations)\n",
    "  Returns the absolute value or zero\n",
    "  \"\"\"\n",
    "  if x < -1E-3:\n",
    "      val = abs(x)\n",
    "  else:\n",
    "      val = 0\n",
    "  return val\n",
    "\n",
    "def get_h1(P: npt.DTypeLike,A: npt.DTypeLike ,B: npt.DTypeLike, verbose=False) -> tuple[float, np.array, float]: \n",
    "  \"\"\"\n",
    "  Return the distance from the point to the line\n",
    "  by taking the cross product of the vector from the pt to a \n",
    "  line segment boundary \n",
    "  Return the \n",
    "  \"\"\"\n",
    "  v1=P-A\n",
    "  v2=B-A\n",
    "  # Make them be a three vector for sanity on cross products\n",
    "  v1=np.append(v1,0)\n",
    "  v2=np.append(v2,0)\n",
    "  # Get the length of the vector from A to B\n",
    "  normalLength=np.linalg.norm(A-B)\n",
    "\n",
    "  # Get the crossproduct and divide by our normal.\n",
    "  h1=abs(np.cross(v1,v2))/normalLength\n",
    "  h1_2 = abs((P[0]-A[0])*(B[1]-A[1])-(P[1]-A[1])*(B[0]-A[0]))/normalLength\n",
    "  if verbose:\n",
    "    print('h1: {} h1_2: {}'.format(h1, h1_2))\n",
    "  # Return just the z component\n",
    "  if h1[-1]<=thresh:\n",
    "    res=0.0\n",
    "  else:\n",
    "    res=h1[-1]\n",
    "  return res, v1, v2\n",
    "\n",
    "\n",
    "def get_h2(P: npt.DTypeLike, A: npt.DTypeLike, B: npt.DTypeLike) -> tuple[float, np.array, np.array]:\n",
    "  \"\"\"\n",
    "  Return the distance from a projected point on to the line defined by A,B\n",
    "  to the boundary of the line defined by A,B. It returns 0 if the point is in the line.\n",
    "  Return the mesure and the projection vector\n",
    "  \"\"\"\n",
    "  v1=P-A\n",
    "  v2=B-A\n",
    "\n",
    "  # Make them be a three vector for sanity on cross products\n",
    "  v1=np.append(v1,0)\n",
    "  v2=np.append(v2,0)\n",
    "\n",
    "  # Get the length of the vector from A to B\n",
    "  normalLength=np.linalg.norm(A-B)\n",
    "\n",
    "  #Get a vector that projects the point perpedicular to our infinate line.\n",
    "  temp=np.cross(v1,v2)\n",
    "  v1c=np.cross(temp,v2)/np.dot(v2,v2)\n",
    "  \n",
    "  #Project the point\n",
    "  Pp=P+v1c[:2]\n",
    "\n",
    "  # Obtain alpha as the distance from projected point to line segment\n",
    "  if A[0]-B[0]==0:\n",
    "    alpha=((Pp[1]-A[1])*normalLength)/(B[1]-A[1])\n",
    "  else:\n",
    "    alpha=((Pp[0]-A[0])*normalLength)/(B[0]-A[0])\n",
    "\n",
    "  # Set it to zero if the projected is on the line segment\n",
    "  h2=mu_f(alpha)+mu_f(normalLength-alpha)\n",
    "  if h2<thresh:\n",
    "    h2=0\n",
    "  return h2, v1c, Pp\n",
    "\n",
    "\n"
   ],
   "outputs": [],
   "metadata": {}
  },
  {
   "cell_type": "markdown",
   "source": [
    "It is important to note that we are not necessarily taking the vector that results from identifying the shortest path from vertex to line segment. We are looking at the distance from the point to the line and then the distance traveling from the projected point to the line segment."
   ],
   "metadata": {}
  },
  {
   "cell_type": "code",
   "execution_count": 25,
   "source": [
    "h1, v1, v2 = get_h1(P,A,B)\n",
    "h2, v1c, Pp = get_h2(P,A,B)\n",
    "result=h1+h2\n",
    "print('h1: {}, h2: {}, result: {}'.format(h1, h2, result))\n"
   ],
   "outputs": [
    {
     "output_type": "stream",
     "name": "stdout",
     "text": [
      "h1: 0.0, h2: 0, result: 0.0\n"
     ]
    }
   ],
   "metadata": {}
  },
  {
   "cell_type": "code",
   "execution_count": 26,
   "source": [
    "def plot_vector_from_point(A: npt.DTypeLike, v:npt.DTypeLike, mscale:int, fcolor='r', ecolor='r', length_scale=1):\n",
    "  \"\"\"\n",
    "  Create an arrow patch object from a point to another defined by the vector v\n",
    "  Returns a patch object\n",
    "  \"\"\"\n",
    "  pt1=A\n",
    "  pt2=A+v[:2]*length_scale\n",
    "  vArrow = mpatches.FancyArrowPatch(\n",
    "      pt1, pt2, arrowstyle='-|>', mutation_scale=mscale, facecolor=fcolor, edgecolor=ecolor)\n",
    "  return vArrow\n"
   ],
   "outputs": [],
   "metadata": {}
  },
  {
   "cell_type": "code",
   "execution_count": 27,
   "source": [
    "def plot_Ve_result(ax,P,A,B,v1,v2,v1c,Pp):\n",
    "  \"\"\"\n",
    "  Plots the representation and vectors used to determine the value related to the distance between a point and an edge\n",
    "  \"\"\"\n",
    "  v1arrow = plot_vector_from_point(A, v1, 20, 'b', 'b')\n",
    "  v2arrow = plot_vector_from_point(A, v2, 20, 'b', 'b')\n",
    "  v1carrow = plot_vector_from_point(P, v1c, 20, 'r', 'r')\n",
    "\n",
    "  ax.plot(A[0],A[1],'Pr',markersize=10) #Original transformed Boundary Point\n",
    "  ax.plot(B[0],B[1],'Pr',markersize=10) #Original transformed Boundary Point\n",
    "  ax.plot(P[0],P[1],'Pb',markersize=10) #Original Point\n",
    "  ax.plot(Pp[0],Pp[1],'Pk',markersize=10) #Projected Point\n",
    "\n",
    "  for lbl, coords in zip (['A','B','P','Pp'],[A, B, P, Pp]):\n",
    "    ax.annotate(lbl,coords, textcoords=\"offset points\", ha='center',xytext=(0,10), fontsize=12)\n",
    "\n",
    "  ax.add_patch(v1arrow)\n",
    "  ax.add_patch(v2arrow)\n",
    "  ax.add_patch(v1carrow)\n",
    " \n"
   ],
   "outputs": [],
   "metadata": {}
  },
  {
   "cell_type": "code",
   "execution_count": 28,
   "source": [
    "#fig, axs = plt.subplots(1,2,figsize=(10, 10))\n",
    "fig, ax = plt.subplots(figsize = (10, 10))\n",
    "\n",
    "plot_Ve_result(ax, P, A, B, v1, v2, v1c, Pp)\n",
    "objpolyA = Polygon(ObjA['Vertices'])\n",
    "objA = PolygonPatch(objpolyA, fc=\"b\", alpha=0.5)\n",
    "\n",
    "objpolyB=Polygon([transfer_pt(vert, conf) for vert in ObjB['Vertices']])\n",
    "objB = PolygonPatch(objpolyB, fc=\"r\", alpha=0.5)\n",
    "\n",
    "ax.add_patch(objA)\n",
    "ax.add_patch(objB)"
   ],
   "outputs": [
    {
     "output_type": "execute_result",
     "data": {
      "text/plain": [
       "<matplotlib.patches.PathPatch at 0x27069438100>"
      ]
     },
     "metadata": {},
     "execution_count": 28
    },
    {
     "output_type": "display_data",
     "data": {
      "image/png": "[encoded data removed]",
      "text/plain": [
       "<Figure size 720x720 with 1 Axes>"
      ]
     },
     "metadata": {
      "needs_background": "light"
     }
    }
   ],
   "metadata": {}
  },
  {
   "cell_type": "markdown",
   "source": [
    "Now we need to wrap the whole thing in a function to use in an optimization to idenfity feasability within the bounds of the assembly"
   ],
   "metadata": {}
  },
  {
   "cell_type": "code",
   "execution_count": 29,
   "source": [
    "def valueVE(cs,conf, verbose=False):\n",
    "  Ao = cs['ElementB'][0]\n",
    "  Bo = cs['ElementB'][1]\n",
    "\n",
    "  # Transfer the points to the conf frame\n",
    "  A = transfer_pt(Ao, conf)\n",
    "  B = transfer_pt(Bo, conf)\n",
    "\n",
    "  # Get the point\n",
    "  P = cs['ElementA']\n",
    "\n",
    "  h1, v1, v2 = get_h1(P, A, B, verbose)\n",
    "  h2, v1c, Pp = get_h2(P, A, B)\n",
    "  result = h1+h2\n",
    "\n",
    "  if verbose:\n",
    "    print('h1 {}, h2 {}'.format(h1, h2))\n",
    "\n",
    "  return result"
   ],
   "outputs": [],
   "metadata": {}
  },
  {
   "cell_type": "code",
   "execution_count": 30,
   "source": [
    "cs"
   ],
   "outputs": [
    {
     "output_type": "execute_result",
     "data": {
      "text/plain": [
       "{'Type': 'V-E',\n",
       " 'ID': 'V9-E2',\n",
       " 'ElementA': array([-0.55,  0.  ]),\n",
       " 'ElementB': [[-0.5, 0], [-0.5, -4]],\n",
       " 'a_min': 0.0,\n",
       " 'a_max': 0.7853981633974483}"
      ]
     },
     "metadata": {},
     "execution_count": 30
    }
   ],
   "metadata": {}
  },
  {
   "cell_type": "code",
   "execution_count": 31,
   "source": [
    "valueVE(cs,conf)"
   ],
   "outputs": [
    {
     "output_type": "execute_result",
     "data": {
      "text/plain": [
       "0.0"
      ]
     },
     "metadata": {},
     "execution_count": 31
    }
   ],
   "metadata": {}
  },
  {
   "cell_type": "markdown",
   "source": [
    "As we can see we can determine the distance from the point to the edge, but we also have another problem. There is part interferance between the components. Because of this we need to also establish a way in which to quantify that interferance. To do so we utilize what is known as the growth distance. Which is basically a measure of how much we would have to scale the part to not result in interferance"
   ],
   "metadata": {}
  },
  {
   "cell_type": "markdown",
   "source": [
    "## Object Triangulation\n",
    "We triangulate the objects using the `sect` and `ground` libraries"
   ],
   "metadata": {}
  },
  {
   "cell_type": "code",
   "execution_count": 32,
   "source": [
    "from ground.base import get_context\n",
    "from sect.triangulation import Triangulation\n",
    "\n",
    "def constrained_triangulation(Obj):\n",
    "  context= get_context()\n",
    "  Contour, Point = context.contour_cls, context.point_cls\n",
    "  PolygonSect = context.polygon_cls\n",
    "\n",
    "  objContour = Contour([Point(vct[0], vct[1]) for vct in Obj['Vertices']])\n",
    "  sect_objcontour = PolygonSect(objContour,[])\n",
    "\n",
    "  subObjs=Triangulation.constrained_delaunay(sect_objcontour, context=context).triangles()\n",
    "  subObjsV = [[(vert.x, vert.y) for vert in subObj.vertices] for subObj in subObjs]\n",
    "\n",
    "  return subObjsV\n"
   ],
   "outputs": [],
   "metadata": {}
  },
  {
   "cell_type": "code",
   "execution_count": 33,
   "source": [
    "fig, ax = plt.subplots(figsize=(10, 10))\n",
    "\n",
    "subObjsA=constrained_triangulation(ObjA)\n",
    "\n",
    "for n,verts in enumerate(subObjsA):\n",
    "  objpoly = Polygon(verts)\n",
    "  centroid = objpoly.centroid\n",
    "  patch = PolygonPatch(objpoly, fc=\"b\", alpha=0.5)\n",
    "  ax.add_patch(patch)\n",
    "  xy=[centroid.x, centroid.y]\n",
    "  print(xy)\n",
    "  ax.annotate('{}'.format(n),xy, textcoords=\"offset points\",\n",
    "               ha='center', xytext=(0, 10), fontsize=12)\n",
    "  \n",
    "ax.autoscale_view()\n",
    "ax.set_aspect('equal', 'box')\n"
   ],
   "outputs": [
    {
     "output_type": "stream",
     "name": "stdout",
     "text": [
      "[3.883333333333333, -0.3333333333333333]\n",
      "[2.216666666666667, -3.0]\n",
      "[3.5499999999999994, 2.6666666666666665]\n",
      "[1.85, -4.333333333333333]\n",
      "[-2.216666666666667, -3.0]\n",
      "[-3.5499999999999994, 2.6666666666666665]\n",
      "[-3.883333333333333, -0.3333333333333333]\n",
      "[-0.18333333333333335, -4.666666666666667]\n"
     ]
    },
    {
     "output_type": "display_data",
     "data": {
      "image/png": "[encoded data removed]",
      "text/plain": [
       "<Figure size 720x720 with 1 Axes>"
      ]
     },
     "metadata": {
      "needs_background": "light"
     }
    }
   ],
   "metadata": {}
  },
  {
   "cell_type": "code",
   "execution_count": 34,
   "source": [
    "n"
   ],
   "outputs": [
    {
     "output_type": "execute_result",
     "data": {
      "text/plain": [
       "7"
      ]
     },
     "metadata": {},
     "execution_count": 34
    }
   ],
   "metadata": {}
  },
  {
   "cell_type": "code",
   "execution_count": 35,
   "source": [
    "fig, ax = plt.subplots(figsize=(10, 10))\n",
    "\n",
    "subObjsB = constrained_triangulation(ObjB)\n",
    "\n",
    "for verts in subObjsB:\n",
    "  objpoly = Polygon(verts)\n",
    "  patch = PolygonPatch(objpoly, fc=\"r\", alpha=0.5)\n",
    "  ax.add_patch(patch)\n",
    "\n",
    "ax.autoscale_view()\n",
    "ax.set_aspect('equal', 'box')\n"
   ],
   "outputs": [
    {
     "output_type": "display_data",
     "data": {
      "image/png": "[encoded data removed]",
      "text/plain": [
       "<Figure size 720x720 with 1 Axes>"
      ]
     },
     "metadata": {
      "needs_background": "light"
     }
    }
   ],
   "metadata": {}
  },
  {
   "cell_type": "markdown",
   "source": [
    "Obviously this isn't the pretiest triangulation due to the convex points. We could probably do something less general and use the convex points to slice into smaller subobjecst but the first attempt with triangulation should work. But the super skinny elements might be an issue."
   ],
   "metadata": {}
  },
  {
   "cell_type": "code",
   "execution_count": 36,
   "source": [
    "# We prepare each of these subobjects as we initially did for the \n",
    "subObjsA=[prepare_object(subObjs) for subObjs in subObjsA]\n",
    "subObjsB=[prepare_object(subObjs) for subObjs in subObjsB]"
   ],
   "outputs": [],
   "metadata": {}
  },
  {
   "cell_type": "code",
   "execution_count": 37,
   "source": [
    "# Ok so we need to define a point within the object that remains constant under rigid body motion.\n",
    "# For this situation however we are using triangles and the centroid will be inside the triangle so we use that.\n",
    "# Since we are doign 2D this is a simplification of the growth distance equations and it becomes a line. \n",
    "# we need an arbitrary point on the plane, and the midpoint of the line is a good choice\n",
    "\n",
    "for subObj in subObjsA:\n",
    "  mdps = [(np.asarray(e[0])+np.asarray(e[1]))/2 for e in subObj['Edges']]\n",
    "  seed = Polygon(subObj['Vertices']).centroid\n",
    "  subObj['Arb'] = mdps\n",
    "  subObj['Seed'] = np.asarray([seed.x, seed.y])\n",
    "\n",
    "for subObj in subObjsB:\n",
    "  mdps = [(np.asarray(e[0])+np.asarray(e[1]))/2 for e in subObj['Edges']]\n",
    "  seed = Polygon(subObj['Vertices']).centroid\n",
    "  subObj['Arb'] = mdps\n",
    "  subObj['Seed'] = np.asarray([seed.x, seed.y])\n"
   ],
   "outputs": [],
   "metadata": {}
  },
  {
   "cell_type": "code",
   "execution_count": 38,
   "source": [
    "# Plot what our current problem looks like.\n",
    "\n",
    "x0 = subObjsA[1]['Seed']\n",
    "fig, ax = plt.subplots(figsize=(10, 10))\n",
    "patch = PolygonPatch(Polygon(subObjsA[0]['Vertices']), fc='none')\n",
    "ax.plot(x0[0], x0[1], 'ok', markersize=12, mfc='none')\n",
    "ax.annotate('x0', tuple(x0), textcoords=\"offset points\",\n",
    "            ha='center', xytext=(0, 10), fontsize=12)\n",
    "ax.add_patch(patch)\n",
    "\n",
    "for n, x in enumerate(subObjsA[0]['Arb']):\n",
    "  ax.plot(x[0], x[1], 'or', markersize=12, mfc='none')\n",
    "  ax.annotate('Arb{}'.format(n), tuple(x), textcoords=\"offset points\",\n",
    "              ha='center', xytext=(0, 10), fontsize=12)\n",
    "\n",
    "for pt, vc in zip(subObjsA[0]['Arb'], subObjsA[0]['Normals']):\n",
    "  ax.add_patch(plot_vector_from_point(pt, vc, 20, 'g', 'g', 6))\n",
    "\n",
    "ax.add_patch(patch)\n",
    "ax.autoscale_view()\n",
    "ax.set_aspect('equal', 'box')\n",
    "\n",
    "Markdown(\"### Important points on object\")\n"
   ],
   "outputs": [
    {
     "output_type": "execute_result",
     "data": {
      "text/markdown": [
       "### Important points on object"
      ],
      "text/plain": [
       "<IPython.core.display.Markdown object>"
      ]
     },
     "metadata": {},
     "execution_count": 38
    },
    {
     "output_type": "display_data",
     "data": {
      "image/png": "[encoded data removed]",
      "text/plain": [
       "<Figure size 720x720 with 1 Axes>"
      ]
     },
     "metadata": {
      "needs_background": "light"
     }
    }
   ],
   "metadata": {}
  },
  {
   "cell_type": "markdown",
   "source": [
    "## Growth Distance Process\n",
    "\n",
    "Now that we have all the information we get to determining the __growth distance__. The why it works is outside the scope of this and is addressed on these two papers [Growth Distances: New Measures for Object Separation and Penetration](https://ieeexplore.ieee.org/document/544772) and\n",
    "[A Fast Groth Distance Algorithm for Incremental Motions](https://www.researchgate.net/publication/3299081_A_fast_growth_distance_algorithm_for_incremental_motions). What we end up setting up is a linear optimization"
   ],
   "metadata": {}
  },
  {
   "cell_type": "markdown",
   "source": [
    "$$\n",
    "\\begin{align*}\n",
    "min_x c^Tx \\\\\n",
    "\\text{such that}  \\\\\n",
    "A_{ub} \\le b_{ub} \\\\\n",
    "l \\le x \\le u  \\\\\n",
    "\\end{align*}$$\n"
   ],
   "metadata": {}
  },
  {
   "cell_type": "code",
   "execution_count": 39,
   "source": [
    "gdObjA = subObjsA[0]\n",
    "gdObjB = subObjsB[0]\n",
    "\n",
    "gdNormalsA=gdObjA['Normals']\n",
    "gdNormalsB=gdObjB['Normals']\n",
    "\n",
    "gdVertA = gdObjA['Vertices']\n",
    "gdVertB = gdObjB['Vertices']\n",
    "\n",
    "gdSeedA = gdObjA['Seed']\n",
    "gdSeedB = gdObjB['Seed']\n",
    "\n",
    "gdArbA = gdObjA['Arb']\n",
    "gdArbB = gdObjB['Arb']\n",
    "\n",
    "gdSeedBwrtA=transfer_pt(gdSeedB, conf)\n",
    "gdNormalsBwrtA = [transfer_vector(nrm, conf) for nrm in gdNormalsB]\n",
    "gdArbBwrtA = [transfer_pt(nrm, conf) for nrm in gdArbB]\n",
    "gdVertBwrtA = [transfer_pt(vert, conf) for vert in gdVertB]\n",
    "\n",
    "#Since we triangulated we know this is three. But for generalization we make sure\n",
    "FaceNumA=len(gdVertA)\n",
    "FaceNumB=len(gdVertB)\n",
    "\n",
    "print(gdArbA)\n"
   ],
   "outputs": [
    {
     "output_type": "stream",
     "name": "stdout",
     "text": [
      "[array([3.05, 2.  ]), array([ 3.05, -2.5 ]), array([ 5.55, -0.5 ])]\n"
     ]
    }
   ],
   "metadata": {}
  },
  {
   "cell_type": "code",
   "execution_count": 40,
   "source": [
    "for subObj in subObjsA:\n",
    "  print(subObj['Arb'])"
   ],
   "outputs": [
    {
     "output_type": "stream",
     "name": "stdout",
     "text": [
      "[array([3.05, 2.  ]), array([ 3.05, -2.5 ]), array([ 5.55, -0.5 ])]\n",
      "[array([ 0.55, -2.  ]), array([ 3.05, -4.5 ]), array([ 3.05, -2.5 ])]\n",
      "[array([2.55, 2.  ]), array([3.05, 2.  ]), array([5.05, 4.  ])]\n",
      "[array([ 0., -4.]), array([ 2.5, -4.5]), array([ 3.05, -4.5 ])]\n",
      "[array([-3.05, -2.5 ]), array([-3.05, -4.5 ]), array([-0.55, -2.  ])]\n",
      "[array([-5.05,  4.  ]), array([-3.05,  2.  ]), array([-2.55,  2.  ])]\n",
      "[array([-5.55, -0.5 ]), array([-3.05, -2.5 ]), array([-3.05,  2.  ])]\n",
      "[array([-3.05, -4.5 ]), array([ 0., -5.]), array([ 2.5, -4.5])]\n"
     ]
    }
   ],
   "metadata": {}
  },
  {
   "cell_type": "code",
   "execution_count": 41,
   "source": [
    "#Initial Guesses for our GD and combine into the right shape\n",
    "GD=1.0\n",
    "\n",
    "# Number of constraints we need\n",
    "ConNum=FaceNumA+FaceNumB+1\n",
    "\n",
    "# Our Object Coefficients we only need the growth function\n",
    "objCoeff=np.array([0,0,0,1])\n",
    "\n",
    "# Right side of the inequality constraint\n",
    "conB=[]\n",
    "conCoeff=[]\n",
    "\n",
    "for arb, Nrm in zip(gdArbA, gdNormalsA):\n",
    "  arb_a=np.append(arb, 0)\n",
    "  nrm_a=np.append(Nrm, 0)\n",
    "  seed_a=np.append(gdSeedA,0)\n",
    "  temp = -np.dot(arb_a-seed_a, nrm_a)\n",
    "  conCoeff.append([nrm_a[0], nrm_a[1], nrm_a[2], temp])\n",
    "  conB.append(np.dot(seed_a, nrm_a))\n",
    "\n",
    "for arb, Nrm in zip(gdArbBwrtA, gdNormalsBwrtA):\n",
    "  arb_b = np.append(arb, 0)\n",
    "  nrm_b=np.append(Nrm, 0)\n",
    "  seed_b=np.append(gdSeedBwrtA,0)\n",
    "  temp=-np.dot(arb_b-seed_b, nrm_b)\n",
    "  conCoeff.append([nrm_b[0],nrm_b[1],nrm_b[2], temp])\n",
    "  conB.append(np.dot(seed_b, nrm_b))\n",
    "\n",
    "conCoeff.append([0,0,0,-1])\n",
    "conB.append(0)\n",
    "\n",
    "bounds = [(None, None) for x in range(1, 4+1)]\n"
   ],
   "outputs": [],
   "metadata": {}
  },
  {
   "cell_type": "code",
   "execution_count": 42,
   "source": [
    "# Get the matrices for our optimization\n",
    "res_lat=[]\n",
    "for lbl, mat in zip(['Obj', 'A_{{ub}}', 'B_{{ub}}'],[np.matrix(objCoeff).T,np.matrix(conCoeff), np.matrix(conB).T] ):\n",
    "\n",
    "      lat_str='\\\\begin{{equation*}} {}={} \\end{{equation*}}'.format(lbl,bmatrix(mat))\n",
    "      res_lat.append(lat_str)\n",
    "Latex(''.join(res_lat))\n"
   ],
   "outputs": [
    {
     "output_type": "execute_result",
     "data": {
      "text/latex": [
       "\\begin{equation*} Obj=\\begin{bmatrix}\n",
       "  0\\\\\n",
       "  0\\\\\n",
       "  0\\\\\n",
       "  1\\\\\n",
       "\\end{bmatrix} \\end{equation*}\\begin{equation*} A_{{ub}}=\\begin{bmatrix}\n",
       "  -0.62469505 & 0.78086881 & 0. & -2.34260643\\\\\n",
       "  -0.70710678 & -0.70710678 & 0. & -2.12132034\\\\\n",
       "  1. & 0. & 0. & -1.66666667\\\\\n",
       "  0. & 1. & 0. & -1.33333333\\\\\n",
       "  -0.9701425 & -0.24253563 & 0. & -0.32338083\\\\\n",
       "  1. & 0. & 0. & -0.33333333\\\\\n",
       "  0. & 0. & 0. & -1.\\\\\n",
       "\\end{bmatrix} \\end{equation*}\\begin{equation*} B_{{ub}}=\\begin{bmatrix}\n",
       "  -2.6861887\\\\\n",
       "  -2.51022907\\\\\n",
       "  3.88333333\\\\\n",
       "  0.66666667\\\\\n",
       "  -0.27487371\\\\\n",
       "  0.11666667\\\\\n",
       "  0.\\\\\n",
       "\\end{bmatrix} \\end{equation*}"
      ],
      "text/plain": [
       "<IPython.core.display.Latex object>"
      ]
     },
     "metadata": {},
     "execution_count": 42
    }
   ],
   "metadata": {}
  },
  {
   "cell_type": "code",
   "execution_count": 43,
   "source": [
    "# Run our optimization to find the growth distance\n",
    "\n",
    "from scipy.optimize import linprog\n",
    "\n",
    "res=linprog(np.array(objCoeff), A_ub=np.matrix(conCoeff), \n",
    "b_ub=np.array(conB), bounds=bounds,\n",
    "options={'maxiter':100, 'presolve':False})\n",
    "print(res)\n",
    "\n",
    "temp=np.dot(res.x, objCoeff)\n",
    "\n",
    "if temp<=1:\n",
    "  gdDistance=1-temp\n",
    "else:\n",
    "  gdDistance=0\n",
    "\n",
    "fscale=temp\n",
    "  \n",
    "print('temp: {} , distance in function: {}'.format(temp, gdDistance))\n"
   ],
   "outputs": [
    {
     "output_type": "stream",
     "name": "stdout",
     "text": [
      "     con: array([], dtype=float64)\n",
      "     fun: 1.0272727280432128\n",
      " message: 'Optimization terminated successfully.'\n",
      "     nit: 5\n",
      "   slack: array([3.08193471e-10, 2.32514141e-09, 5.13636364e+00, 2.02727273e+00,\n",
      "       5.04915074e-01, 7.79043122e-10, 1.02727273e+00])\n",
      "  status: 0\n",
      " success: True\n",
      "       x: array([0.45909091, 0.00909091, 0.        , 1.02727273])\n",
      "temp: 1.0272727280432128 , distance in function: 0\n"
     ]
    }
   ],
   "metadata": {}
  },
  {
   "cell_type": "code",
   "execution_count": 44,
   "source": [
    "fig, ax = plt.subplots(figsize=(10, 10))\n",
    "\n",
    "polyA = PolygonPatch(Polygon(gdVertA), fc=\"b\", alpha=0.5)\n",
    "\n",
    "polyB = PolygonPatch(Polygon(gdVertB), fc=\"r\", alpha=0.1, ls='--')\n",
    "\n",
    "polyBwrtA = PolygonPatch(Polygon(gdVertBwrtA), fc=\"g\", alpha=0.5)\n",
    "ax.add_patch(polyA)\n",
    "ax.add_patch(polyB)\n",
    "ax.add_patch(polyBwrtA)\n",
    "\n",
    "ax.plot(gdSeedBwrtA[0], gdSeedBwrtA[1], 'ok', markersize=12,  mfc='none')\n",
    "\n",
    "ax.plot(gdSeedA[0], gdSeedA[1], 'ok', markersize=12, mfc='none')\n",
    "\n",
    "ax.annotate('SeedA', tuple(gdSeedA), textcoords=\"offset points\",\n",
    "            ha='center', xytext=(0, 10), fontsize=12)\n",
    "\n",
    "ax.annotate('SeedBwrtA', tuple(gdSeedBwrtA), textcoords=\"offset points\",\n",
    "            ha='center', xytext=(0, 10), fontsize=12)\n",
    "\n",
    "\n",
    "ax.plot(np.reshape(gdArbBwrtA, (3, 2))[:, 0], np.reshape(gdArbBwrtA, (3, 2))[:, 1], '*g')\n",
    "\n",
    "for pt, vc in zip(gdArbBwrtA, gdNormalsBwrtA):\n",
    "  ax.add_patch(plot_vector_from_point(pt, vc, 20, 'g', 'g'))\n",
    "\n",
    "for n, x in enumerate(gdArbA):\n",
    "  ax.plot(x[0], x[1], 'or', markersize=12, mfc='none')\n",
    "  ax.annotate('ArbA{}'.format(n), tuple(x), textcoords=\"offset points\",\n",
    "              ha='center', xytext=(0, 10), fontsize=12)\n",
    "\n",
    "for n, x in enumerate(gdArbBwrtA):\n",
    "  ax.plot(x[0], x[1], 'or', markersize=12, mfc='none')\n",
    "  ax.annotate('ArbBwrtA{}'.format(n), tuple(x), textcoords=\"offset points\",\n",
    "              ha='center', xytext=(0, 10), fontsize=12)\n",
    "\n",
    "ax.set_aspect('equal', 'box')\n",
    "Markdown('### Optimization Initial Position')"
   ],
   "outputs": [
    {
     "output_type": "execute_result",
     "data": {
      "text/markdown": [
       "### Optimization Initial Position"
      ],
      "text/plain": [
       "<IPython.core.display.Markdown object>"
      ]
     },
     "metadata": {},
     "execution_count": 44
    },
    {
     "output_type": "display_data",
     "data": {
      "image/png": "[encoded data removed]",
      "text/plain": [
       "<Figure size 720x720 with 1 Axes>"
      ]
     },
     "metadata": {
      "needs_background": "light"
     }
    }
   ],
   "metadata": {}
  },
  {
   "cell_type": "code",
   "execution_count": 45,
   "source": [
    "fig, ax = plt.subplots(figsize=(10, 10))\n",
    "\n",
    "shapeA = Polygon(gdVertA)\n",
    "shapeAs = scale(shapeA, fscale, fscale, origin=tuple(seed_a))\n",
    "\n",
    "polyA = PolygonPatch(shapeA, fc=\"b\", alpha=0.5)\n",
    "\n",
    "shapeB = Polygon(gdVertBwrtA)\n",
    "shapeBs = scale(shapeB, fscale, fscale, origin=tuple(seed_b))\n",
    "\n",
    "polyBwrtA = PolygonPatch(shapeB, fc=\"g\", alpha=0.5)\n",
    "\n",
    "ax.add_patch(PolygonPatch(shapeAs, fc=\"b\", alpha=0.2))\n",
    "ax.add_patch(PolygonPatch(shapeBs, fc=\"g\", alpha=0.2))\n",
    "\n",
    "ax.add_patch(polyA)\n",
    "ax.add_patch(polyBwrtA)\n",
    "\n",
    "ax.plot(gdSeedBwrtA[0], gdSeedBwrtA[1], 'ok', markersize=12,  mfc='none')\n",
    "\n",
    "ax.plot(gdSeedA[0], gdSeedA[1], 'ok', markersize=12, mfc='none')\n",
    "\n",
    "ax.annotate('SeedA', tuple(gdSeedA), textcoords=\"offset points\",\n",
    "            ha='center', xytext=(0, 10), fontsize=12)\n",
    "\n",
    "ax.annotate('SeedBwrtA', tuple(gdSeedBwrtA), textcoords=\"offset points\",\n",
    "            ha='center', xytext=(0, 10), fontsize=12)\n",
    "\n",
    "ax.plot(res.x[0], res.x[1], 'xr', mfc='none', markersize=12)\n",
    "\n",
    "ax.set_aspect('equal', 'box')\n",
    "Markdown('### Visiual Check of Result \\n \\\n",
    "As we can see the result shows that we are correct in stablishing the point and growth it would take \\\n",
    "to acocmplish contact between the parts for our optimization we set it to 0 if its not negative (penetration) \\\n",
    "or euqal to 1 (touching)')\n"
   ],
   "outputs": [
    {
     "output_type": "execute_result",
     "data": {
      "text/markdown": [
       "### Visiual Check of Result \n",
       " As we can see the result shows that we are correct in stablishing the point and growth it would take to acocmplish contact between the parts for our optimization we set it to 0 if its not negative (penetration) or euqal to 1 (touching)"
      ],
      "text/plain": [
       "<IPython.core.display.Markdown object>"
      ]
     },
     "metadata": {},
     "execution_count": 45
    },
    {
     "output_type": "display_data",
     "data": {
      "image/png": "[encoded data removed]",
      "text/plain": [
       "<Figure size 720x720 with 1 Axes>"
      ]
     },
     "metadata": {
      "needs_background": "light"
     }
    }
   ],
   "metadata": {}
  },
  {
   "cell_type": "code",
   "execution_count": 46,
   "source": [
    "# Now wrap the whole calculation within a function\n",
    "\n",
    "def growth_distance(subObjA, subObjB, conf):\n",
    "  gdObjA = subObjA\n",
    "\n",
    "  gdObjB = subObjB\n",
    "\n",
    "  gdNormalsA = gdObjA['Normals']\n",
    "  gdNormalsB = gdObjB['Normals']\n",
    "\n",
    "  gdVertA = gdObjA['Vertices']\n",
    "  gdVertB = gdObjB['Vertices']\n",
    "\n",
    "  gdSeedA = gdObjA['Seed']\n",
    "  gdSeedB = gdObjB['Seed']\n",
    "\n",
    "  gdArbA = gdObjA['Arb']\n",
    "  gdArbB = gdObjB['Arb']\n",
    "\n",
    "  gdSeedBwrtA = transfer_pt(gdSeedB, conf)\n",
    "  gdNormalsBwrtA = [transfer_vector(nrm, conf) for nrm in gdNormalsB]\n",
    "  gdArbBwrtA = [transfer_pt(nrm, conf) for nrm in gdArbB]\n",
    "  gdVertBwrtA = [transfer_pt(vert, conf) for vert in gdVertB]\n",
    "\n",
    "  #Since we triangulated we know this is three. But for generalization we make sure\n",
    "  FaceNumA = len(gdVertA)\n",
    "  FaceNumB = len(gdVertB)\n",
    "\n",
    "\n",
    "  #Initial Guesses for our GD and combine into the right shape\n",
    "  GD = 1.0\n",
    "\n",
    "  # Number of constraints we need\n",
    "  ConNum = FaceNumA+FaceNumB+1\n",
    "\n",
    "  # Our Object Coefficients we only need the growth function\n",
    "  objCoeff = np.array([0, 0, 0, 1])\n",
    "\n",
    "  # Right side of the inequality constraint\n",
    "  conB = []\n",
    "  conCoeff = []\n",
    "\n",
    "  for arb, Nrm in zip(gdArbA, gdNormalsA):\n",
    "    arb_a = np.append(arb, 0)\n",
    "    nrm_a = np.append(Nrm, 0)\n",
    "    seed_a = np.append(gdSeedA, 0)\n",
    "    temp = -np.dot(arb_a-seed_a, nrm_a)\n",
    "    conCoeff.append([nrm_a[0], nrm_a[1], nrm_a[2], temp])\n",
    "    conB.append(np.dot(seed_a, nrm_a))\n",
    "\n",
    "  for arb, Nrm in zip(gdArbBwrtA, gdNormalsBwrtA):\n",
    "    arb_b = np.append(arb, 0)\n",
    "    nrm_b = np.append(Nrm, 0)\n",
    "    seed_b = np.append(gdSeedBwrtA, 0)\n",
    "    temp = -np.dot(arb_b-seed_b, nrm_b)\n",
    "    conCoeff.append([nrm_b[0], nrm_b[1], nrm_b[2], temp])\n",
    "    conB.append(np.dot(seed_b, nrm_b))\n",
    "\n",
    "  conCoeff.append([0, 0, 0, -1])\n",
    "  conB.append(0)\n",
    "\n",
    "  bounds = [(None, None) for x in range(1, 4+1)]\n",
    "\n",
    "  res = linprog(np.array(objCoeff), A_ub=np.matrix(conCoeff),\n",
    "                b_ub=np.array(conB), bounds=bounds)\n",
    "\n",
    "  temp = np.dot(res.x, objCoeff)\n",
    "\n",
    "  if temp <= 1-1e-4:\n",
    "    gdDistance = 1-temp\n",
    "  else:\n",
    "    gdDistance = 0\n",
    "\n",
    "  fscale = temp\n",
    "\n",
    "  res_lat = []\n",
    "\n",
    "\n",
    "  for lbl, mat in zip(['Obj', 'A_{{ub}}', 'B_{{ub}}'], [np.matrix(objCoeff).T, np.matrix(conCoeff), np.matrix(conB).T]):\n",
    "\n",
    "      lat_str = '\\\\begin{{equation*}} {}={} \\end{{equation*}}'.format(\n",
    "          lbl, bmatrix(mat))\n",
    "      res_lat.append(lat_str)\n",
    "\n",
    "  return gdDistance, res, res_lat\n",
    "\n"
   ],
   "outputs": [],
   "metadata": {}
  },
  {
   "cell_type": "code",
   "execution_count": 47,
   "source": [
    "# Sanity Check\n",
    "gd, res =growth_distance(subObjsA[0],subObjsB[0], conf)[:2]\n",
    "res"
   ],
   "outputs": [
    {
     "output_type": "execute_result",
     "data": {
      "text/plain": [
       "     con: array([], dtype=float64)\n",
       "     fun: 1.027272728469709\n",
       " message: 'Optimization terminated successfully.'\n",
       "     nit: 5\n",
       "   slack: array([2.22729524e-09, 3.56012464e-09, 5.13636364e+00, 2.02727273e+00,\n",
       "       5.04915075e-01, 7.20741522e-12, 1.02727273e+00])\n",
       "  status: 0\n",
       " success: True\n",
       "       x: array([0.45909091, 0.00909091, 0.        , 1.02727273])"
      ]
     },
     "metadata": {},
     "execution_count": 47
    }
   ],
   "metadata": {}
  },
  {
   "cell_type": "markdown",
   "source": [
    "\n",
    "Now we can calculate the overall growth distance sum for all our subobjects. If Obj A does not interact with Obj B\n",
    "then the sum should still be zero"
   ],
   "metadata": {}
  },
  {
   "cell_type": "code",
   "execution_count": 48,
   "source": [
    "def poly_growth_fun(subObjsA, subObjsB,conf, verbose=False):\n",
    "  gds=[]\n",
    "  bad_res=[]\n",
    "  for An,subObjA in enumerate(subObjsA):\n",
    "    for Bn, subObjB in enumerate(subObjsB):\n",
    "      gd, res = growth_distance(subObjA, subObjB, conf)[:2]\n",
    "      if verbose:\n",
    "        print('A{}-B{} | Status: {}, \\\n",
    "        Success: {}, \\\n",
    "        Value: {}'.format(An, Bn, res.status, res.success, res.fun))\n",
    "      if res.status==2:\n",
    "        bad_res.append([An, Bn])\n",
    "        raise\n",
    "      else:\n",
    "        gds.append(gd)\n",
    "  return np.array(gds).sum()\n"
   ],
   "outputs": [],
   "metadata": {}
  },
  {
   "cell_type": "code",
   "execution_count": 49,
   "source": [
    "gdvalue=poly_growth_fun(subObjsA, subObjsB, conf)"
   ],
   "outputs": [],
   "metadata": {}
  },
  {
   "cell_type": "code",
   "execution_count": 50,
   "source": [
    "def opt_fun(cs, subObjsA, subObjsB, conf, verbose=False):\n",
    "  Ve_value=valueVE(cs, conf)\n",
    "  Gf_value=poly_growth_fun(subObjsA, subObjsB, conf)\n",
    "  if verbose:\n",
    "    print('V_E value {}, Growth_Value {}'.format(Ve_value, Gf_value))\n",
    "  return Ve_value+Gf_value\n"
   ],
   "outputs": [],
   "metadata": {}
  },
  {
   "cell_type": "code",
   "execution_count": 51,
   "source": [
    "fval=opt_fun(ContactStates[0], subObjsA, subObjsB, conf)\n",
    "print(fval)"
   ],
   "outputs": [
    {
     "output_type": "stream",
     "name": "stdout",
     "text": [
      "10.0\n"
     ]
    }
   ],
   "metadata": {}
  },
  {
   "cell_type": "markdown",
   "source": [
    "So with an input of just the contact state, the subObjects and the configuration we can then do an optimization on the feasability of the contact state in the bounds."
   ],
   "metadata": {}
  },
  {
   "cell_type": "markdown",
   "source": [
    "Normally I would just go ahead and use [DEAP](''), but I figured I'd try something new with [PyGAD]('')"
   ],
   "metadata": {}
  },
  {
   "cell_type": "code",
   "execution_count": 52,
   "source": [
    "import pygad\n"
   ],
   "outputs": [],
   "metadata": {}
  },
  {
   "cell_type": "code",
   "execution_count": 53,
   "source": [
    "global current_cs\n",
    "\n",
    "current_cs = ContactStates[-1]\n",
    "current_cs"
   ],
   "outputs": [
    {
     "output_type": "execute_result",
     "data": {
      "text/plain": [
       "{'Type': 'V-E',\n",
       " 'ID': 'V9-E2',\n",
       " 'ElementA': array([-0.55,  0.  ]),\n",
       " 'ElementB': [[-0.5, 0], [-0.5, -4]],\n",
       " 'a_min': 0.0,\n",
       " 'a_max': 0.7853981633974483}"
      ]
     },
     "metadata": {},
     "execution_count": 53
    }
   ],
   "metadata": {}
  },
  {
   "cell_type": "code",
   "execution_count": 54,
   "source": [
    "\n",
    "def fitness_func(conf, index):\n",
    "  fval=opt_fun(current_cs, subObjsA, subObjsB, conf)+thresh\n",
    "  fitness=1/np.abs(fval)\n",
    "  return fitness"
   ],
   "outputs": [],
   "metadata": {}
  },
  {
   "cell_type": "code",
   "execution_count": 55,
   "source": [
    "gene_space=[]\n",
    "for l,u in zip(lb, ub):\n",
    "  gene_space.append({'low':l, 'high':u})"
   ],
   "outputs": [],
   "metadata": {}
  },
  {
   "cell_type": "markdown",
   "source": [],
   "metadata": {}
  },
  {
   "cell_type": "code",
   "execution_count": 56,
   "source": [
    "def on_generation(ga):\n",
    "    print(\"Generation\", ga.generations_completed)\n",
    "    print(ga.best_solution()[1])\n",
    "\n",
    "\n",
    "ga_instance = pygad.GA(num_generations=100,\n",
    "                       sol_per_pop=30,\n",
    "                       num_genes=3,\n",
    "                       num_parents_mating=5,\n",
    "                       gene_type=np.float32,\n",
    "                       gene_space=gene_space,\n",
    "                       fitness_func=fitness_func,\n",
    "                       crossover_probability=0.4,\n",
    "                       mutation_type=\"random\",\n",
    "                       mutation_probability=0.6,\n",
    "                       on_generation=on_generation,\n",
    "                       allow_duplicate_genes=False,\n",
    "                       stop_criteria=[\"reach_{}\".format((1/thresh)-1), \"saturate_50\"])\n"
   ],
   "outputs": [],
   "metadata": {}
  },
  {
   "cell_type": "code",
   "execution_count": 57,
   "source": [
    "ga_instance.run()"
   ],
   "outputs": [
    {
     "output_type": "stream",
     "name": "stdout",
     "text": [
      "Generation 1\n",
      "4.316442982842301\n",
      "Generation 2\n",
      "4.495598520502183\n",
      "Generation 3\n",
      "4.495598520502183\n",
      "Generation 4\n",
      "4.495598520502183\n",
      "Generation 5\n",
      "4.975237499586629\n",
      "Generation 6\n",
      "6.726557448362121\n",
      "Generation 7\n",
      "6.726557448362121\n",
      "Generation 8\n",
      "6.726557448362121\n",
      "Generation 9\n",
      "6.726557448362121\n",
      "Generation 10\n",
      "6.726557448362121\n",
      "Generation 11\n",
      "8.762063434511354\n",
      "Generation 12\n",
      "14.629313007036743\n",
      "Generation 13\n",
      "14.629313007036743\n",
      "Generation 14\n",
      "15.571740852312988\n",
      "Generation 15\n",
      "71.64757990630562\n",
      "Generation 16\n",
      "71.64757990630562\n",
      "Generation 17\n",
      "1000.0\n"
     ]
    }
   ],
   "metadata": {}
  },
  {
   "cell_type": "code",
   "execution_count": 61,
   "source": [
    "ga_instance.plot_fitness()"
   ],
   "outputs": [
    {
     "output_type": "display_data",
     "data": {
      "image/png": "[encoded data removed]",
      "text/plain": [
       "<Figure size 432x288 with 1 Axes>"
      ]
     },
     "metadata": {
      "needs_background": "light"
     }
    },
    {
     "output_type": "execute_result",
     "data": {
      "image/png": "[encoded data removed]",
      "text/plain": [
       "<Figure size 432x288 with 1 Axes>"
      ]
     },
     "metadata": {},
     "execution_count": 61
    }
   ],
   "metadata": {}
  },
  {
   "cell_type": "code",
   "execution_count": 62,
   "source": [
    "ga_res=ga_instance.best_solution()\n",
    "conf_solv=ga_res[0]\n",
    "fig, ax = plt.subplots(figsize=(10, 10))\n",
    "\n",
    "objpolyA = Polygon(ObjA['Vertices'])\n",
    "objA = PolygonPatch(objpolyA, fc=\"b\", alpha=0.5)\n",
    "\n",
    "objpolyB = Polygon([transfer_pt(vert, conf_solv) for vert in ObjB['Vertices']])\n",
    "objB = PolygonPatch(objpolyB, fc=\"r\", alpha=0.5)\n",
    "\n",
    "ax.add_patch(objA)\n",
    "ax.add_patch(objB)\n",
    "\n",
    "ax.autoscale_view()\n",
    "ax.set_aspect('equal', 'box')\n"
   ],
   "outputs": [
    {
     "output_type": "display_data",
     "data": {
      "image/png": "[encoded data removed]",
      "text/plain": [
       "<Figure size 720x720 with 1 Axes>"
      ]
     },
     "metadata": {
      "needs_background": "light"
     }
    }
   ],
   "metadata": {}
  },
  {
   "cell_type": "code",
   "execution_count": 63,
   "source": [
    "opt_fun(current_cs, subObjsA, subObjsB, conf_solv, verbose=True)\n"
   ],
   "outputs": [
    {
     "output_type": "stream",
     "name": "stdout",
     "text": [
      "V_E value 0.0, Growth_Value 0\n"
     ]
    },
    {
     "output_type": "execute_result",
     "data": {
      "text/plain": [
       "0.0"
      ]
     },
     "metadata": {},
     "execution_count": 63
    }
   ],
   "metadata": {}
  },
  {
   "cell_type": "code",
   "execution_count": 71,
   "source": [
    "fit_res=ga_res[1]\n",
    "if fit_res<=1/thresh:\n",
    "  feasibility=True\n",
    "  print('Contact State {} is feasable'.format(current_cs['ID']))\n",
    "else:\n",
    "  feasability=False\n",
    "  print('Contact State {} is NOT feasable'.format(current_cs['ID']))\n"
   ],
   "outputs": [
    {
     "output_type": "stream",
     "name": "stdout",
     "text": [
      "Contact State V9-E2 is feasable\n"
     ]
    }
   ],
   "metadata": {}
  },
  {
   "cell_type": "code",
   "execution_count": null,
   "source": [],
   "outputs": [],
   "metadata": {}
  }
 ],
 "metadata": {
  "orig_nbformat": 4,
  "language_info": {
   "name": "python",
   "version": "3.9.5",
   "mimetype": "text/x-python",
   "codemirror_mode": {
    "name": "ipython",
    "version": 3
   },
   "pygments_lexer": "ipython3",
   "nbconvert_exporter": "python",
   "file_extension": ".py"
  },
  "kernelspec": {
   "name": "python3",
   "display_name": "Python 3.9.5 64-bit ('env': venv)"
  },
  "interpreter": {
   "hash": "95f424f7fb9b931610f48ab761846136edf28821cb075d5960be994b26f4d2db"
  }
 },
 "nbformat": 4,
 "nbformat_minor": 2
}