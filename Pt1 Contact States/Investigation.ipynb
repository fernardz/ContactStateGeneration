{
 "cells": [
  {
   "cell_type": "markdown",
   "source": [
    "# Initial investigation of rework of thesis related to optimizing admittance in a force guided assembly task"
   ],
   "metadata": {}
  },
  {
   "cell_type": "code",
   "execution_count": 41,
   "source": [
    "\r\n",
    "import numpy as np\r\n",
    "import pandas as pd\r\n",
    "import matplotlib.pyplot as plt\r\n",
    "import matplotlib.path as mpath\r\n",
    "import matplotlib.lines as mlines\r\n",
    "import matplotlib.patches as mpatches\r\n",
    "import random\r\n",
    "from matplotlib.collections import PatchCollection\r\n",
    "from matplotlib import cm as mcm\r\n",
    "import matplotlib.gridspec as gridspec\r\n",
    "import math\r\n",
    "import logging"
   ],
   "outputs": [],
   "metadata": {}
  },
  {
   "cell_type": "code",
   "execution_count": 42,
   "source": [
    "logger = logging.getLogger()\r\n",
    "logger.setLevel('INFO')"
   ],
   "outputs": [],
   "metadata": {}
  },
  {
   "cell_type": "code",
   "execution_count": 43,
   "source": [
    "# Define constraints\r\n",
    "PENALTYFACTOR=75\r\n",
    "INIT_MAX_THETA=np.pi/36\r\n",
    "INIT_MIN_THETA=-np.pi/36\r\n",
    "INIT_MAX_X=1.87\r\n",
    "INIT_MAX_Y=24.5  # Can be scalled depending on part geometry\r\n",
    "INIT_MIN_X=-1.87\r\n",
    "INIT_MIN_Y=0\r\n",
    "DP_INIT=13\r\n",
    "\r\n",
    "xPAPos=2e-1\r\n",
    "xPANeg=-2e-1\r\n",
    "yPAPos=1e-1\r\n",
    "yPANeg=-1e-1\r\n",
    "thetaPAPos=0.0872664626\r\n",
    "thetaPANeg=-0.0872664626\r\n",
    "thresh=1.0e-3\r\n",
    "\r\n",
    "logging.info('Loaded Constants')"
   ],
   "outputs": [
    {
     "output_type": "stream",
     "name": "stderr",
     "text": [
      "INFO:root:Loaded Constants\n"
     ]
    }
   ],
   "metadata": {}
  },
  {
   "cell_type": "code",
   "execution_count": 44,
   "source": [
    "lb=[INIT_MIN_X,INIT_MIN_Y,INIT_MIN_THETA]\r\n",
    "ub=[INIT_MAX_X,INIT_MAX_Y,INIT_MAX_THETA]"
   ],
   "outputs": [],
   "metadata": {}
  },
  {
   "cell_type": "code",
   "execution_count": 45,
   "source": [
    "# Convinience plotting function\r\n",
    "def plot_poly(objs_disp):\r\n",
    "  fig, ax = plt.subplots()\r\n",
    "  \r\n",
    "  patches=[]\r\n",
    "  for poly in objs_disp:\r\n",
    "    patches.append(poly)\r\n",
    "  p=PatchCollection(patches, edgecolor=\"k\", alpha=0.5, cmap=mcm.jet)\r\n",
    "  colors = 100*np.random.random(len(patches))\r\n",
    "  p.set_array(colors)\r\n",
    "  ax.add_collection(p)\r\n",
    "  ax.autoscale_view()\r\n",
    "  ax.set_aspect('equal','box')\r\n",
    "  plt.show()\r\n",
    "\r\n",
    "\r\n",
    "def plot_shape(shapes):\r\n",
    "  fig, ax = plt.subplots()\r\n",
    "  for shape in shapes:\r\n",
    "    ax.add_patch(shape)\r\n",
    "  ax.autoscale_view()\r\n",
    "  ax.set_aspect('equal','box')\r\n",
    "  plt.show()"
   ],
   "outputs": [],
   "metadata": {}
  },
  {
   "cell_type": "markdown",
   "source": [
    "We are a bit lazy so we go ahead and define the vertices for the objects here, this was done to save time with parsing dxf files."
   ],
   "metadata": {}
  },
  {
   "cell_type": "code",
   "execution_count": 46,
   "source": [
    "VertA=np.array([\r\n",
    "[-5.55, 4],\r\n",
    "[-5.55, -5],\r\n",
    "[5.55, -5],\r\n",
    "[5.55, 4 ],\r\n",
    "[4.55, 4],\r\n",
    "[0.55, 0],\r\n",
    "[0.55, -4],\r\n",
    "[-0.55, -4],\r\n",
    "[-0.55, 0],\r\n",
    "[-4.55, 4 ]\r\n",
    "])\r\n",
    "\r\n",
    "figObjA=mpatches.Polygon(VertA)\r\n",
    "plot_poly([figObjA])"
   ],
   "outputs": [
    {
     "output_type": "display_data",
     "data": {
      "image/png": "[encoded data removed]",
      "text/plain": [
       "<Figure size 432x288 with 1 Axes>"
      ]
     },
     "metadata": {
      "needs_background": "light"
     }
    }
   ],
   "metadata": {}
  },
  {
   "cell_type": "code",
   "execution_count": 47,
   "source": [
    "VertB=[\r\n",
    "[0.5, -4],\r\n",
    "[-0.5, -4],\r\n",
    "[-0.5, 0],\r\n",
    "[0.5, 0],\r\n",
    "]\r\n",
    "\r\n",
    "figObjB=mpatches.Polygon(VertB)\r\n",
    "plot_poly([figObjB])"
   ],
   "outputs": [
    {
     "output_type": "display_data",
     "data": {
      "image/png": "[encoded data removed]",
      "text/plain": [
       "<Figure size 432x288 with 1 Axes>"
      ]
     },
     "metadata": {
      "needs_background": "light"
     }
    }
   ],
   "metadata": {}
  },
  {
   "cell_type": "markdown",
   "source": [
    "Now we can see the end result of the assembly task, a square peg inside a slot"
   ],
   "metadata": {}
  },
  {
   "cell_type": "code",
   "execution_count": 48,
   "source": [
    "plot_poly([figObjA, figObjB])"
   ],
   "outputs": [
    {
     "output_type": "display_data",
     "data": {
      "image/png": "[encoded data removed]",
      "text/plain": [
       "<Figure size 432x288 with 1 Axes>"
      ]
     },
     "metadata": {
      "needs_background": "light"
     }
    }
   ],
   "metadata": {}
  },
  {
   "cell_type": "markdown",
   "source": [
    "Since we are doing a bunch of transformations we are using shapely instead"
   ],
   "metadata": {}
  },
  {
   "cell_type": "code",
   "execution_count": 49,
   "source": [
    "from shapely.geometry import Polygon, LineString, LinearRing\r\n",
    "from descartes import PolygonPatch"
   ],
   "outputs": [],
   "metadata": {}
  },
  {
   "cell_type": "code",
   "execution_count": 50,
   "source": [
    "polygonA = Polygon(VertA)\r\n",
    "patchA = PolygonPatch(polygonA, fc=\"b\", alpha=0.5)\r\n",
    "polygonB = Polygon(VertB)\r\n",
    "patchB = PolygonPatch(polygonB, fc=\"y\")\r\n",
    "plot_shape([patchA, patchB])"
   ],
   "outputs": [
    {
     "output_type": "display_data",
     "data": {
      "image/png": "[encoded data removed]",
      "text/plain": [
       "<Figure size 432x288 with 1 Axes>"
      ]
     },
     "metadata": {
      "needs_background": "light"
     }
    }
   ],
   "metadata": {}
  },
  {
   "cell_type": "markdown",
   "source": [
    "Get all the normals of the lines"
   ],
   "metadata": {}
  },
  {
   "cell_type": "code",
   "execution_count": 51,
   "source": [
    "def prepare_object(Vert):\r\n",
    "  #Check that object is defined as ccw\r\n",
    "  LRObjB=LinearRing(Vert)\r\n",
    "  if LRObjB.is_ccw is not True:\r\n",
    "    Vert=[x for x in reversed(Vert)]\r\n",
    "  Lines=[]\r\n",
    "  Vectors=[]\r\n",
    "  VectorsNorm=[]\r\n",
    "  Edges=[]\r\n",
    "  Verts2=[]\r\n",
    "\r\n",
    "  # For each create an edge, a shapely line and also due to how we want iterate\r\n",
    "  # rework our Vertices to mantain the shape. Normalize our Vectors\r\n",
    "  for i in range(len(Vert)):\r\n",
    "    Edge=[Vert[i-1],Vert[i]]\r\n",
    "    Edges.append(Edge)\r\n",
    "    Line=LineString([Vert[i-1],Vert[i]])\r\n",
    "    Lines.append(Line)\r\n",
    "    Verts2.append(Vert[i-1])\r\n",
    "    Vector=np.array(Vert[i-1])-np.array(Vert[i])\r\n",
    "    Vectors.append(Vector)\r\n",
    "    VectorNorm = Vector/np.linalg.norm(Vector)\r\n",
    "    VectorsNorm.append(VectorNorm)\r\n",
    "\r\n",
    "  print(\"Edges\")\r\n",
    "  print('\\n'.join('{}: {}'.format(*k) for k in enumerate(Edges)))\r\n",
    "\r\n",
    "  print(\"Vertices\")\r\n",
    "  print('\\n'.join('{}: {}'.format(*k) for k in enumerate(Verts2)))\r\n",
    "\r\n",
    "  # Get the vectors of each 2D object.Super easy for 2D \r\n",
    "  Normals=[]\r\n",
    "  for V in VectorsNorm:\r\n",
    "    Norm=np.array([-V[1],V[0]])\r\n",
    "    Normals.append(Norm)\r\n",
    "\r\n",
    "  print(\"Normals\")\r\n",
    "  print('\\n'.join('{}: {}'.format(*k) for k in enumerate(Normals)))\r\n",
    "\r\n",
    "  print(\"Vectors\")\r\n",
    "  print('\\n'.join('{}: {}'.format(*k) for k in enumerate(Vectors)))\r\n",
    "  print(\"Vectors Normalized\")\r\n",
    "  print('\\n'.join('{}: {}'.format(*k) for k in enumerate(VectorsNorm)))\r\n",
    "  Obj={}\r\n",
    "  Obj['Vertices']=np.asarray(Verts2)\r\n",
    "  Obj['Edges']=Edges\r\n",
    "  Obj['Lines']=Lines\r\n",
    "  Obj['Vectors']=Vectors\r\n",
    "  Obj['VectorsNorm']=VectorsNorm\r\n",
    "  Obj['Normals']=Normals\r\n",
    "  return Obj"
   ],
   "outputs": [],
   "metadata": {}
  },
  {
   "cell_type": "code",
   "execution_count": 52,
   "source": [
    "ObjA=prepare_object(VertA)"
   ],
   "outputs": [
    {
     "output_type": "stream",
     "name": "stdout",
     "text": [
      "Edges\n",
      "0: [array([-4.55,  4.  ]), array([-5.55,  4.  ])]\n",
      "1: [array([-5.55,  4.  ]), array([-5.55, -5.  ])]\n",
      "2: [array([-5.55, -5.  ]), array([ 5.55, -5.  ])]\n",
      "3: [array([ 5.55, -5.  ]), array([5.55, 4.  ])]\n",
      "4: [array([5.55, 4.  ]), array([4.55, 4.  ])]\n",
      "5: [array([4.55, 4.  ]), array([0.55, 0.  ])]\n",
      "6: [array([0.55, 0.  ]), array([ 0.55, -4.  ])]\n",
      "7: [array([ 0.55, -4.  ]), array([-0.55, -4.  ])]\n",
      "8: [array([-0.55, -4.  ]), array([-0.55,  0.  ])]\n",
      "9: [array([-0.55,  0.  ]), array([-4.55,  4.  ])]\n",
      "Vertices\n",
      "0: [-4.55  4.  ]\n",
      "1: [-5.55  4.  ]\n",
      "2: [-5.55 -5.  ]\n",
      "3: [ 5.55 -5.  ]\n",
      "4: [5.55 4.  ]\n",
      "5: [4.55 4.  ]\n",
      "6: [0.55 0.  ]\n",
      "7: [ 0.55 -4.  ]\n",
      "8: [-0.55 -4.  ]\n",
      "9: [-0.55  0.  ]\n",
      "Normals\n",
      "0: [-0.  1.]\n",
      "1: [-1.  0.]\n",
      "2: [-0. -1.]\n",
      "3: [1. 0.]\n",
      "4: [-0.  1.]\n",
      "5: [-0.70710678  0.70710678]\n",
      "6: [-1.  0.]\n",
      "7: [-0.  1.]\n",
      "8: [1. 0.]\n",
      "9: [0.70710678 0.70710678]\n",
      "Vectors\n",
      "0: [1. 0.]\n",
      "1: [0. 9.]\n",
      "2: [-11.1   0. ]\n",
      "3: [ 0. -9.]\n",
      "4: [1. 0.]\n",
      "5: [4. 4.]\n",
      "6: [0. 4.]\n",
      "7: [1.1 0. ]\n",
      "8: [ 0. -4.]\n",
      "9: [ 4. -4.]\n",
      "Vectors Normalized\n",
      "0: [1. 0.]\n",
      "1: [0. 1.]\n",
      "2: [-1.  0.]\n",
      "3: [ 0. -1.]\n",
      "4: [1. 0.]\n",
      "5: [0.70710678 0.70710678]\n",
      "6: [0. 1.]\n",
      "7: [1. 0.]\n",
      "8: [ 0. -1.]\n",
      "9: [ 0.70710678 -0.70710678]\n"
     ]
    }
   ],
   "metadata": {}
  },
  {
   "cell_type": "code",
   "execution_count": 53,
   "source": [
    "ObjB=prepare_object(VertB)"
   ],
   "outputs": [
    {
     "output_type": "stream",
     "name": "stdout",
     "text": [
      "Edges\n",
      "0: [[0.5, -4], [0.5, 0]]\n",
      "1: [[0.5, 0], [-0.5, 0]]\n",
      "2: [[-0.5, 0], [-0.5, -4]]\n",
      "3: [[-0.5, -4], [0.5, -4]]\n",
      "Vertices\n",
      "0: [0.5, -4]\n",
      "1: [0.5, 0]\n",
      "2: [-0.5, 0]\n",
      "3: [-0.5, -4]\n",
      "Normals\n",
      "0: [1. 0.]\n",
      "1: [-0.  1.]\n",
      "2: [-1.  0.]\n",
      "3: [-0. -1.]\n",
      "Vectors\n",
      "0: [ 0. -4.]\n",
      "1: [1. 0.]\n",
      "2: [0. 4.]\n",
      "3: [-1.  0.]\n",
      "Vectors Normalized\n",
      "0: [ 0. -1.]\n",
      "1: [1. 0.]\n",
      "2: [0. 1.]\n",
      "3: [-1.  0.]\n"
     ]
    }
   ],
   "metadata": {}
  },
  {
   "cell_type": "markdown",
   "source": [
    "Define our edges and also our vectors and normalize them"
   ],
   "metadata": {}
  },
  {
   "cell_type": "code",
   "execution_count": 54,
   "source": [
    "fig, axs= plt.subplots(1,2, figsize=(20,20))\r\n",
    "\r\n",
    "ax=axs[0]\r\n",
    "polygonA = Polygon(ObjA['Vertices'])\r\n",
    "patchA = PolygonPatch(polygonA, fc=\"b\", alpha=0.5)\r\n",
    "\r\n",
    "for i,(e,n) in enumerate(zip(ObjA['Edges'], ObjA['Normals'])):\r\n",
    "  mdpt=(np.add(e[0],e[1]))/2\r\n",
    "  ax.text(mdpt[0],mdpt[1],'E{}'.format(i))\r\n",
    "  scnd=mdpt+n*2\r\n",
    "  L=LineString([mdpt, scnd])\r\n",
    "  x,y=L.xy\r\n",
    "  ax.plot(x,y)\r\n",
    "\r\n",
    "for n, (x,y) in enumerate(ObjA['Vertices']):\r\n",
    "  ax.text(x,y,'V{}'.format(n))\r\n",
    "\r\n",
    "ax.add_patch(patchA)\r\n",
    "ax.autoscale_view()\r\n",
    "ax.set_aspect('equal','box')\r\n",
    "ax.set_xbound(-6,6)\r\n",
    "ax.set_ybound(-6,6)\r\n",
    "\r\n",
    "polygonB = Polygon(ObjB['Vertices'])\r\n",
    "patchB = PolygonPatch(polygonB, fc=\"b\", alpha=0.5)\r\n",
    "\r\n",
    "ax= axs[1]\r\n",
    "\r\n",
    "for i,(e,n) in enumerate(zip(ObjB['Edges'], ObjB['Normals'])):\r\n",
    "  mdpt=np.add(e[0],e[1])/2\r\n",
    "  ax.text(mdpt[0],mdpt[1],'E{}'.format(i))\r\n",
    "  scnd=mdpt+n*2\r\n",
    "  L=LineString([mdpt, scnd])\r\n",
    "  x,y=L.xy\r\n",
    "  ax.plot(x,y)\r\n",
    "\r\n",
    "for n, (x,y) in enumerate(ObjB['Vertices']):\r\n",
    "  ax.text(x,y,'V{}'.format(n))\r\n",
    "\r\n",
    "ax.add_patch(patchB)\r\n",
    "ax.autoscale_view()\r\n",
    "ax.set_aspect('equal','box')\r\n",
    "\r\n",
    "ax.set_xbound(-6,6)\r\n",
    "ax.set_ybound(-6,6)\r\n",
    "\r\n",
    "plt.show()\r\n"
   ],
   "outputs": [
    {
     "output_type": "display_data",
     "data": {
      "image/png": "[encoded data removed]",
      "text/plain": [
       "<Figure size 1440x1440 with 2 Axes>"
      ]
     },
     "metadata": {
      "needs_background": "light"
     }
    }
   ],
   "metadata": {}
  },
  {
   "cell_type": "code",
   "execution_count": 55,
   "source": [
    "def get_concave(ObjData):\r\n",
    "    ConcaveList=[]\r\n",
    "    for i in range(len(ObjData['Vertices'])):\r\n",
    "        x1=np.take(ObjData['Vertices'],i, axis=0, mode='wrap')\r\n",
    "\r\n",
    "        be1=np.take(ObjData['Normals'],i-1, axis=0, mode='wrap')\r\n",
    "        be2=np.take(ObjData['Normals'],i, axis=0, mode='wrap')\r\n",
    "\r\n",
    "        be1=np.append(be1,0)\r\n",
    "        be2=np.append(be2,0)\r\n",
    "\r\n",
    "        v=np.cross(be1,be2)\r\n",
    "\r\n",
    "        v0=np.append(x1,0)\r\n",
    "        v2=np.append(x1,-1)\r\n",
    "\r\n",
    "        res=np.dot(-v, (v2- v0))\r\n",
    "\r\n",
    "        ConcaveList.append(res)\r\n",
    "    return ConcaveList"
   ],
   "outputs": [],
   "metadata": {}
  },
  {
   "cell_type": "code",
   "execution_count": 56,
   "source": [
    "ConcaveListA=get_concave(ObjA)\r\n",
    "ConcaveListB=get_concave(ObjB)\r\n",
    "\r\n",
    "ObjA['Concave']=ConcaveListA\r\n",
    "ObjB['Concave']=ConcaveListB"
   ],
   "outputs": [],
   "metadata": {}
  },
  {
   "cell_type": "code",
   "execution_count": 57,
   "source": [
    "fig, axs= plt.subplots(1,2, sharey=True, figsize=(10,10))\r\n",
    "\r\n",
    "ax=axs[0]\r\n",
    "polygonA = Polygon(ObjA['Vertices'])\r\n",
    "patchA = PolygonPatch(polygonA, fc=\"b\", alpha=0.5)\r\n",
    "\r\n",
    "for n, ((x,y),Clist) in enumerate(zip(ObjA['Vertices'],ConcaveListA)):\r\n",
    "    if Clist<=0:\r\n",
    "        ax.text(x,y,'V{}'.format(n),color='red')\r\n",
    "    else:\r\n",
    "        ax.text(x,y,'V{}'.format(n))\r\n",
    "\r\n",
    "\r\n",
    "\r\n",
    "ax1=axs[1]\r\n",
    "polygonB = Polygon(ObjB['Vertices'])\r\n",
    "patchB = PolygonPatch(polygonB, fc=\"b\", alpha=0.5)\r\n",
    "\r\n",
    "for n, ((x,y),Clist) in enumerate(zip(ObjB['Vertices'],ConcaveListB)):\r\n",
    "    if Clist<=0:\r\n",
    "        ax1.text(x,y,'V{}'.format(n),color='red')\r\n",
    "    else:\r\n",
    "        ax1.text(x,y,'V{}'.format(n))\r\n",
    "\r\n",
    "ax1.add_patch(patchB)\r\n",
    "ax1.set_aspect('equal')\r\n",
    "\r\n",
    "ax.add_patch(patchA)\r\n",
    "\r\n",
    "ax.set_xbound(-6,6)\r\n",
    "ax.set_ybound(-6,6)\r\n",
    "ax1.set_xbound(-6,6)\r\n",
    "ax1.set_ybound(-6,6)\r\n",
    "\r\n",
    "\r\n",
    "ax.set_aspect('equal')"
   ],
   "outputs": [
    {
     "output_type": "display_data",
     "data": {
      "image/png": "[encoded data removed]",
      "text/plain": [
       "<Figure size 720x720 with 2 Axes>"
      ]
     },
     "metadata": {
      "needs_background": "light"
     }
    }
   ],
   "metadata": {}
  },
  {
   "cell_type": "markdown",
   "source": [
    "## Vertex Edge Contacts\r\n",
    "\r\n",
    "We check for ObjA V and ObjB E."
   ],
   "metadata": {}
  },
  {
   "cell_type": "code",
   "execution_count": 58,
   "source": [
    "def get_angle_vector(a,b):\r\n",
    "    a1=np.arccos(a[0]/np.linalg.norm(a))\r\n",
    "    a2=np.arccos(b[0]/np.linalg.norm(b))\r\n",
    "\r\n",
    "    if a[1]<0:\r\n",
    "        a1=-a1\r\n",
    "\r\n",
    "    if b[1]<0:\r\n",
    "        a2=-a2\r\n",
    "\r\n",
    "    angle=a1-a2\r\n",
    "\r\n",
    "    if angle>np.pi:\r\n",
    "        angle=angle-2*np.pi\r\n",
    "    elif angle<=-np.pi:\r\n",
    "        angle=angle+2*np.pi\r\n",
    "\r\n",
    "    return angle"
   ],
   "outputs": [],
   "metadata": {}
  },
  {
   "cell_type": "code",
   "execution_count": 59,
   "source": [
    "def VE_feas(Angle_a, Angle_b):\r\n",
    "    a_max=np.max([Angle_a, Angle_b])\r\n",
    "    a_min=np.min([Angle_a, Angle_b])\r\n",
    "\r\n",
    "    if a_max-a_min > np.pi:\r\n",
    "        temp=a_max\r\n",
    "        a_max=a_min+2*np.pi\r\n",
    "        a_min=temp\r\n",
    "\r\n",
    "    if a_max<INIT_MIN_THETA or a_min>INIT_MAX_THETA:\r\n",
    "        feas=False\r\n",
    "    else:\r\n",
    "        feas=True\r\n",
    "    return a_min, a_max, feas"
   ],
   "outputs": [],
   "metadata": {}
  },
  {
   "cell_type": "code",
   "execution_count": 60,
   "source": [
    "ContactStates=[]\r\n",
    "for iA, (vA, cl) in enumerate(zip(ObjA['Vertices'], ObjA['Concave'])):\r\n",
    "    if cl>0:\r\n",
    "        Ea=ObjA['Normals'][iA]\r\n",
    "        Eb=ObjA['Normals'][iA-1]\r\n",
    "\r\n",
    "        for iB, NB in enumerate(ObjB['Normals']):\r\n",
    "            temp=-NB\r\n",
    "            Angle_a=get_angle_vector(Ea, temp)\r\n",
    "            Angle_b=get_angle_vector(Eb, temp)\r\n",
    "            a_min, a_max, feas=VE_feas(Angle_a, Angle_b)\r\n",
    "            if feas:\r\n",
    "                print('V {}, E{}, Angle_Min {}, Angle_Max {}'.format(iA, iB,\r\n",
    "                math.degrees(a_min), math.degrees(a_max)))\r\n",
    "                cs={'Type':'V-E',\r\n",
    "                    'ID':'V{}-E{}'.format(iA, iB),\r\n",
    "                    'ElementA':vA,\r\n",
    "                    'ElementB':ObjB['Edges'][iB],\r\n",
    "                    'a_min':a_min,\r\n",
    "                    'a_max':a_max}\r\n",
    "                ContactStates.append(cs)\r\n",
    "\r\n",
    "            \r\n",
    "\r\n",
    "        "
   ],
   "outputs": [
    {
     "output_type": "stream",
     "name": "stdout",
     "text": [
      "V 0, E3, Angle_Min -45.0, Angle_Max 0.0\n",
      "V 1, E0, Angle_Min -90.0, Angle_Max 0.0\n",
      "V 1, E3, Angle_Min 0.0, Angle_Max 90.0\n",
      "V 2, E0, Angle_Min 0.0, Angle_Max 90.0\n",
      "V 2, E1, Angle_Min -90.0, Angle_Max 0.0\n",
      "V 3, E1, Angle_Min 0.0, Angle_Max 90.0\n",
      "V 3, E2, Angle_Min -90.0, Angle_Max 0.0\n",
      "V 4, E2, Angle_Min 0.0, Angle_Max 90.0\n",
      "V 4, E3, Angle_Min -90.0, Angle_Max 0.0\n",
      "V 5, E3, Angle_Min 0.0, Angle_Max 45.0\n",
      "V 6, E0, Angle_Min -45.0, Angle_Max 0.0\n",
      "V 9, E2, Angle_Min 0.0, Angle_Max 45.0\n"
     ]
    }
   ],
   "metadata": {}
  },
  {
   "cell_type": "code",
   "execution_count": 104,
   "source": [
    "conf=[]\r\n",
    "for l,u in zip(lb,ub):\r\n",
    "    conf.append(random.uniform(l, u))\r\n",
    "    "
   ],
   "outputs": [],
   "metadata": {}
  },
  {
   "cell_type": "code",
   "execution_count": 143,
   "source": [
    "print('Lower:',lb)\r\n",
    "print('Upper:',ub)\r\n",
    "conf[2]=math.radians(-10)\r\n",
    "print('Conf:',conf[:2],math.degrees(conf[2]))\r\n"
   ],
   "outputs": [
    {
     "output_type": "stream",
     "name": "stdout",
     "text": [
      "Lower: [-1.87, 0, -0.08726646259971647]\n",
      "Upper: [1.87, 24.5, 0.08726646259971647]\n",
      "Conf: [1.2521116438226687, 12.93470617886232] -10.0\n"
     ]
    }
   ],
   "metadata": {}
  },
  {
   "cell_type": "code",
   "execution_count": 144,
   "source": [
    "def transfer_N(pt, conf):\r\n",
    "    trans=conf[0:1]\r\n",
    "    angle=conf[2]\r\n",
    "    c, s = np.cos(angle), np.sin(angle)\r\n",
    "    R = np.array(((c, -s), (s, c)))\r\n",
    "    npt=np.dot(R,pt)+trans\r\n",
    "    return npt\r\n",
    "\r\n",
    "def mu_f(x):\r\n",
    "    if x<-1E-3:\r\n",
    "        val=abs(x)\r\n",
    "    else:\r\n",
    "        val=0\r\n",
    "    return val"
   ],
   "outputs": [],
   "metadata": {}
  },
  {
   "cell_type": "code",
   "execution_count": 145,
   "source": [
    "Ao=cs['ElementB'][0]\r\n",
    "Bo=cs['ElementB'][1]\r\n",
    "\r\n",
    "A=transfer_N(Ao, conf)\r\n",
    "B=transfer_N(Bo, conf)\r\n",
    "\r\n",
    "normalLength=np.linalg.norm(A-B)"
   ],
   "outputs": [],
   "metadata": {}
  },
  {
   "cell_type": "code",
   "execution_count": 146,
   "source": [
    "P=cs['ElementA']"
   ],
   "outputs": [],
   "metadata": {}
  },
  {
   "cell_type": "code",
   "execution_count": 147,
   "source": [
    "v1=P-A\r\n",
    "v2=B-A\r\n",
    "h1=abs(np.cross(v1,v2))/normalLength"
   ],
   "outputs": [],
   "metadata": {}
  },
  {
   "cell_type": "code",
   "execution_count": 148,
   "source": [
    "v1p=np.append(v1,0)\r\n",
    "v2p=np.append(v2,0)"
   ],
   "outputs": [],
   "metadata": {}
  },
  {
   "cell_type": "code",
   "execution_count": 149,
   "source": [
    "temp=np.cross(v1p,v2p)\r\n",
    "v1c=np.cross(temp,v2p)/np.dot(v2p,v2p)"
   ],
   "outputs": [],
   "metadata": {}
  },
  {
   "cell_type": "code",
   "execution_count": 150,
   "source": [
    "Pp=P+v1c[:2]"
   ],
   "outputs": [],
   "metadata": {}
  },
  {
   "cell_type": "code",
   "execution_count": 154,
   "source": [
    "if A[0]-B[0]==0:\r\n",
    "    alpha=((Pp[1]-A[1])*normalLength)/(B[1]-A[1])\r\n",
    "else:\r\n",
    "    alpha=((Pp[0]-A[0])*normalLength)/(B[0]-A[0])"
   ],
   "outputs": [],
   "metadata": {}
  },
  {
   "cell_type": "code",
   "execution_count": 155,
   "source": [
    "h2=mu_f(alpha)+mu_f(normalLength-alpha)"
   ],
   "outputs": [],
   "metadata": {}
  },
  {
   "cell_type": "code",
   "execution_count": 163,
   "source": [
    "result=h1+h2"
   ],
   "outputs": [],
   "metadata": {}
  },
  {
   "cell_type": "code",
   "execution_count": 164,
   "source": [
    "print('h1+h2:',result)"
   ],
   "outputs": [
    {
     "output_type": "stream",
     "name": "stdout",
     "text": [
      "h1+h2: 1.0573066134447882\n"
     ]
    }
   ],
   "metadata": {}
  },
  {
   "cell_type": "code",
   "execution_count": 153,
   "source": [
    "fig, axs = plt.subplots(1,4, figsize=(20,20))\r\n",
    "ax1=axs[0]\r\n",
    "ax1.plot(P[0],P[1],'rx')\r\n",
    "ax1.text(P[0],P[1],'P')\r\n",
    "\r\n",
    "sVo=np.array([Ao,Bo]).T\r\n",
    "ax1.plot(sVo[0],sVo[1])\r\n",
    "ax1.text(Ao[0],Ao[1],'Ao')\r\n",
    "ax1.text(Bo[0],Bo[1],'Bo')\r\n",
    "\r\n",
    "sV=np.array([A,B]).T\r\n",
    "ax1.plot(sV[0],sV[1])\r\n",
    "ax1.text(A[0],A[1],'A')\r\n",
    "ax1.text(B[0],B[1],'B')\r\n",
    "\r\n",
    "ax1.plot(Pp[0],Pp[1],'db')\r\n",
    "ax1.text(Pp[0],Pp[1],'Pp')\r\n",
    "ax1.set_aspect('equal')\r\n",
    "\r\n",
    "ax2=axs[1]\r\n",
    "ax2.arrow(A[0],A[1],v1[0],v1[1],width=0.15, shape='right',length_includes_head=True)\r\n",
    "ax2.arrow(A[0],A[1],v2[0],v2[1],width=0.15, shape='right',length_includes_head=True)\r\n",
    "\r\n",
    "ax2.set_aspect('equal')\r\n",
    "\r\n",
    "ax3=axs[2]\r\n",
    "ax3.plot(Pp[0],Pp[1],'or')\r\n",
    "ax3.plot(P[0],P[1],'ob')\r\n",
    "ax3.arrow(P[0],P[1],v1c[0],v1c[1],width=0.15,length_includes_head=True)\r\n",
    "ax3.set_aspect('equal')\r\n",
    "\r\n",
    "ax4=axs[3]\r\n",
    "ax4.arrow(A[0],A[1],v1[0],v1[1],width=0.15, shape='right',length_includes_head=True)\r\n",
    "ax4.arrow(A[0],A[1],v2[0],v2[1],width=0.15, shape='right',length_includes_head=True)\r\n",
    "ax4.arrow(P[0],P[1],v1c[0],v1c[1],width=0.15,shape='right',length_includes_head=True, facecolor='r')\r\n",
    "\r\n",
    "ax4.plot(A[0],A[1],'Pr',markersize=10)\r\n",
    "ax4.plot(P[0],P[1],'Pb',markersize=10)\r\n",
    "ax4.plot(Pp[0],Pp[1],'Pk',markersize=10)\r\n",
    "\r\n",
    "ax4.plot(sV[0],sV[1],'--xr')\r\n",
    "ax4.plot(sVo[0],sVo[1],'--xb')\r\n",
    "ax4.set_xbound(-2,2)\r\n",
    "ax4.set_ybound(-2,2)\r\n",
    "ax4.set_aspect('equal')\r\n",
    "\r\n"
   ],
   "outputs": [
    {
     "output_type": "display_data",
     "data": {
      "image/png": "[encoded data removed]",
      "text/plain": [
       "<Figure size 1440x1440 with 4 Axes>"
      ]
     },
     "metadata": {
      "needs_background": "light"
     }
    }
   ],
   "metadata": {}
  },
  {
   "cell_type": "code",
   "execution_count": 94,
   "source": [],
   "outputs": [
    {
     "output_type": "execute_result",
     "data": {
      "text/plain": [
       "array([0.        , 0.        , 6.96087113])"
      ]
     },
     "metadata": {},
     "execution_count": 94
    }
   ],
   "metadata": {}
  },
  {
   "cell_type": "code",
   "execution_count": 77,
   "source": [
    "P"
   ],
   "outputs": [
    {
     "output_type": "execute_result",
     "data": {
      "text/plain": [
       "array([-0.55,  0.  ])"
      ]
     },
     "metadata": {},
     "execution_count": 77
    }
   ],
   "metadata": {}
  },
  {
   "cell_type": "code",
   "execution_count": 78,
   "source": [
    "P"
   ],
   "outputs": [
    {
     "output_type": "execute_result",
     "data": {
      "text/plain": [
       "array([-0.55,  0.  ])"
      ]
     },
     "metadata": {},
     "execution_count": 78
    }
   ],
   "metadata": {}
  },
  {
   "cell_type": "code",
   "execution_count": 79,
   "source": [
    "Pp"
   ],
   "outputs": [
    {
     "output_type": "execute_result",
     "data": {
      "text/plain": [
       "array([1.18893628, 0.06677225])"
      ]
     },
     "metadata": {},
     "execution_count": 79
    }
   ],
   "metadata": {}
  },
  {
   "cell_type": "code",
   "execution_count": 80,
   "source": [
    "v1c[0:2]"
   ],
   "outputs": [
    {
     "output_type": "execute_result",
     "data": {
      "text/plain": [
       "array([1.73893628, 0.06677225])"
      ]
     },
     "metadata": {},
     "execution_count": 80
    }
   ],
   "metadata": {}
  },
  {
   "cell_type": "code",
   "execution_count": null,
   "source": [],
   "outputs": [],
   "metadata": {}
  }
 ],
 "metadata": {
  "orig_nbformat": 4,
  "language_info": {
   "name": "python",
   "version": "3.9.7",
   "mimetype": "text/x-python",
   "codemirror_mode": {
    "name": "ipython",
    "version": 3
   },
   "pygments_lexer": "ipython3",
   "nbconvert_exporter": "python",
   "file_extension": ".py"
  },
  "kernelspec": {
   "name": "python3",
   "display_name": "Python 3.9.7 64-bit ('env': venv)"
  },
  "interpreter": {
   "hash": "16bbd40d7cdf971427ab2df78528548966faf844081c2a3540a1726eb4fd0948"
  }
 },
 "nbformat": 4,
 "nbformat_minor": 2
}